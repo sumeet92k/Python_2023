{
 "cells": [
  {
   "cell_type": "markdown",
   "id": "c9b38438",
   "metadata": {},
   "source": [
    "# Time complexity and numpy\n",
    "\n",
    "* Searching operation time complexity in list and sets\n",
    "* Numpy arrays, creation, access, dimensions and shapes\n",
    "* Operations on numpy arrays, element wise and matrix multiplications"
   ]
  },
  {
   "cell_type": "markdown",
   "id": "0ea759f6",
   "metadata": {},
   "source": [
    "## Summary of list, tuple, set and dict\n",
    "\n",
    "\n",
    "| Property/ Data Structure | List | Tuple | Set | Dict |\n",
    "| --- | --- | --- | --- | --- |\n",
    "| Is it Mutable? | Yes | No  | Yes | Yes |\n",
    "| Is it Ordered? | Yes | Yes | No  | Yes, as per insertion time |\n",
    "| Is it Indexed? | Yes | Yes | No  | Using key |\n",
    "| Can it contain Duplicates? | Yes | Yes | No | Keys cannot be duplicates |\n",
    "| Is data Hashed while storing?  | No  | No  | Yes | Yes |  \n",
    "| Search complexity? | O(n)  | O(n) | O(1) | O(1) |"
   ]
  },
  {
   "cell_type": "code",
   "execution_count": 47,
   "id": "d227edd8",
   "metadata": {},
   "outputs": [],
   "source": [
    "import time\n",
    "import random"
   ]
  },
  {
   "cell_type": "markdown",
   "id": "db87f20f",
   "metadata": {},
   "source": [
    "### Searching in lists vs sets/dict\n"
   ]
  },
  {
   "cell_type": "code",
   "execution_count": 48,
   "id": "915b2e88",
   "metadata": {},
   "outputs": [
    {
     "data": {
      "text/plain": [
       "5314"
      ]
     },
     "execution_count": 48,
     "metadata": {},
     "output_type": "execute_result"
    }
   ],
   "source": [
    "random.randint(0, 10000)"
   ]
  },
  {
   "cell_type": "code",
   "execution_count": 49,
   "id": "bbd1bbae",
   "metadata": {},
   "outputs": [],
   "source": [
    "l = [random.randint(0, 2000000) for _ in range(2000000)]\n",
    "set_a = set(l)\n",
    "# print(l)"
   ]
  },
  {
   "cell_type": "code",
   "execution_count": 50,
   "id": "7644c081",
   "metadata": {},
   "outputs": [
    {
     "name": "stdout",
     "output_type": "stream",
     "text": [
      "time_total_list =  0.040695064\n"
     ]
    }
   ],
   "source": [
    "time_start = time.process_time()\n",
    "if 70000 in l:\n",
    "    print(\"Found\")\n",
    "time_end = time.process_time()\n",
    "time_total_list = time_end - time_start\n",
    "print(\"time_total_list = {0: .9f}\".format(time_total_list))\n",
    "# l.index(700)"
   ]
  },
  {
   "cell_type": "code",
   "execution_count": 95,
   "id": "110aed4c",
   "metadata": {},
   "outputs": [
    {
     "name": "stdout",
     "output_type": "stream",
     "text": [
      "time_total_set =  0.001165829\n"
     ]
    }
   ],
   "source": [
    "time_start = time.process_time()\n",
    "if 70000 in set_a:\n",
    "    print(\"Found\")\n",
    "time_end = time.process_time()\n",
    "time_total_set = time_end - time_start\n",
    "print(\"time_total_set = {0: .9f}\".format(time_total_set))"
   ]
  },
  {
   "cell_type": "code",
   "execution_count": 96,
   "id": "9c788300",
   "metadata": {},
   "outputs": [
    {
     "name": "stdout",
     "output_type": "stream",
     "text": [
      "speedup =  34.90654632884648\n"
     ]
    }
   ],
   "source": [
    "print(\"speedup = \", time_total_list/time_total_set)"
   ]
  },
  {
   "cell_type": "markdown",
   "id": "618d85c8",
   "metadata": {},
   "source": [
    "## Numpy arrays as faster alternatives to numerical lists"
   ]
  },
  {
   "cell_type": "markdown",
   "id": "193d41bc",
   "metadata": {},
   "source": [
    "### Creating numpy arrays"
   ]
  },
  {
   "cell_type": "code",
   "execution_count": 53,
   "id": "af274bc7",
   "metadata": {},
   "outputs": [],
   "source": [
    "import numpy as np"
   ]
  },
  {
   "cell_type": "code",
   "execution_count": 54,
   "id": "de9eba19",
   "metadata": {},
   "outputs": [
    {
     "data": {
      "text/plain": [
       "array([0., 0., 0., 0., 0., 0., 0., 0., 0., 0.])"
      ]
     },
     "execution_count": 54,
     "metadata": {},
     "output_type": "execute_result"
    }
   ],
   "source": [
    "a = np.zeros(10)\n",
    "a"
   ]
  },
  {
   "cell_type": "code",
   "execution_count": 55,
   "id": "9e015481",
   "metadata": {},
   "outputs": [
    {
     "data": {
      "text/plain": [
       "10"
      ]
     },
     "execution_count": 55,
     "metadata": {},
     "output_type": "execute_result"
    }
   ],
   "source": [
    "a.size"
   ]
  },
  {
   "cell_type": "code",
   "execution_count": 56,
   "id": "969fa7fc",
   "metadata": {},
   "outputs": [
    {
     "data": {
      "text/plain": [
       "(10,)"
      ]
     },
     "execution_count": 56,
     "metadata": {},
     "output_type": "execute_result"
    }
   ],
   "source": [
    "a.shape"
   ]
  },
  {
   "cell_type": "code",
   "execution_count": 57,
   "id": "e7c78501",
   "metadata": {},
   "outputs": [
    {
     "data": {
      "text/plain": [
       "1"
      ]
     },
     "execution_count": 57,
     "metadata": {},
     "output_type": "execute_result"
    }
   ],
   "source": [
    "a.ndim"
   ]
  },
  {
   "cell_type": "code",
   "execution_count": 58,
   "id": "0f9cd881",
   "metadata": {},
   "outputs": [
    {
     "data": {
      "text/plain": [
       "array([1., 1., 1., 1., 1., 1., 1., 1., 1., 1.])"
      ]
     },
     "execution_count": 58,
     "metadata": {},
     "output_type": "execute_result"
    }
   ],
   "source": [
    "a = np.ones(10)\n",
    "a"
   ]
  },
  {
   "cell_type": "code",
   "execution_count": 59,
   "id": "2025f5d5",
   "metadata": {},
   "outputs": [
    {
     "data": {
      "text/plain": [
       "array([0, 1, 2, 3, 4, 5, 6, 7, 8, 9])"
      ]
     },
     "execution_count": 59,
     "metadata": {},
     "output_type": "execute_result"
    }
   ],
   "source": [
    "a = np.arange(10)\n",
    "a"
   ]
  },
  {
   "cell_type": "code",
   "execution_count": 60,
   "id": "ed9d83c2",
   "metadata": {},
   "outputs": [
    {
     "data": {
      "text/plain": [
       "array([0, 0, 0, 0, 0, 0, 0, 0, 0, 0])"
      ]
     },
     "execution_count": 60,
     "metadata": {},
     "output_type": "execute_result"
    }
   ],
   "source": [
    "b = np.zeros_like(a)\n",
    "b"
   ]
  },
  {
   "cell_type": "code",
   "execution_count": 61,
   "id": "476eeffc",
   "metadata": {},
   "outputs": [
    {
     "data": {
      "text/plain": [
       "array([1, 1, 1, 1, 1, 1, 1, 1, 1, 1])"
      ]
     },
     "execution_count": 61,
     "metadata": {},
     "output_type": "execute_result"
    }
   ],
   "source": [
    "b = np.ones_like(a)\n",
    "b"
   ]
  },
  {
   "cell_type": "code",
   "execution_count": 62,
   "id": "79879746",
   "metadata": {},
   "outputs": [
    {
     "data": {
      "text/plain": [
       "array([5, 5, 2, 6, 6, 2, 4, 3, 5, 7])"
      ]
     },
     "execution_count": 62,
     "metadata": {},
     "output_type": "execute_result"
    }
   ],
   "source": [
    "b = np.random.randint(0, 10, size=10)\n",
    "b"
   ]
  },
  {
   "cell_type": "code",
   "execution_count": 63,
   "id": "1ed2ff7d",
   "metadata": {},
   "outputs": [
    {
     "data": {
      "text/plain": [
       "numpy.ndarray"
      ]
     },
     "execution_count": 63,
     "metadata": {},
     "output_type": "execute_result"
    }
   ],
   "source": [
    "type(b)"
   ]
  },
  {
   "cell_type": "code",
   "execution_count": 64,
   "id": "5018f72a",
   "metadata": {},
   "outputs": [
    {
     "data": {
      "text/plain": [
       "array([[0., 0., 0.],\n",
       "       [0., 0., 0.]])"
      ]
     },
     "execution_count": 64,
     "metadata": {},
     "output_type": "execute_result"
    }
   ],
   "source": [
    "c = np.zeros((2, 3))\n",
    "c"
   ]
  },
  {
   "cell_type": "code",
   "execution_count": 65,
   "id": "be41391b",
   "metadata": {},
   "outputs": [
    {
     "data": {
      "text/plain": [
       "array([[3, 9, 0, 7],\n",
       "       [7, 6, 3, 2]])"
      ]
     },
     "execution_count": 65,
     "metadata": {},
     "output_type": "execute_result"
    }
   ],
   "source": [
    "b = np.random.randint(0, 10, size=(2, 4))\n",
    "b"
   ]
  },
  {
   "cell_type": "code",
   "execution_count": 66,
   "id": "1bc1af07",
   "metadata": {},
   "outputs": [
    {
     "data": {
      "text/plain": [
       "array([[1., 0., 0., 0.],\n",
       "       [0., 1., 0., 0.],\n",
       "       [0., 0., 1., 0.],\n",
       "       [0., 0., 0., 1.]])"
      ]
     },
     "execution_count": 66,
     "metadata": {},
     "output_type": "execute_result"
    }
   ],
   "source": [
    "b = np.identity(4) # for square matrices\n",
    "b"
   ]
  },
  {
   "cell_type": "code",
   "execution_count": 67,
   "id": "159d8921",
   "metadata": {},
   "outputs": [
    {
     "data": {
      "text/plain": [
       "array([[1., 0., 0.],\n",
       "       [0., 1., 0.],\n",
       "       [0., 0., 1.],\n",
       "       [0., 0., 0.]])"
      ]
     },
     "execution_count": 67,
     "metadata": {},
     "output_type": "execute_result"
    }
   ],
   "source": [
    "b = np.eye(4, 3) # for square and rectangular matrices\n",
    "b"
   ]
  },
  {
   "cell_type": "markdown",
   "id": "8509e197",
   "metadata": {},
   "source": [
    "#### Creating from lists"
   ]
  },
  {
   "cell_type": "code",
   "execution_count": 68,
   "id": "9f1d55ca",
   "metadata": {},
   "outputs": [
    {
     "data": {
      "text/plain": [
       "[0, 1, 2, 3, 4, 5, 6, 7, 8, 9]"
      ]
     },
     "metadata": {},
     "output_type": "display_data"
    },
    {
     "data": {
      "text/plain": [
       "list"
      ]
     },
     "metadata": {},
     "output_type": "display_data"
    },
    {
     "data": {
      "text/plain": [
       "array([0, 1, 2, 3, 4, 5, 6, 7, 8, 9])"
      ]
     },
     "metadata": {},
     "output_type": "display_data"
    },
    {
     "data": {
      "text/plain": [
       "numpy.ndarray"
      ]
     },
     "execution_count": 68,
     "metadata": {},
     "output_type": "execute_result"
    }
   ],
   "source": [
    "l = [i for i in range(10)]\n",
    "display(l)\n",
    "display(type(l))\n",
    "a = np.array(l)\n",
    "display(a)\n",
    "type(a)"
   ]
  },
  {
   "cell_type": "code",
   "execution_count": 69,
   "id": "11115310",
   "metadata": {},
   "outputs": [
    {
     "data": {
      "text/plain": [
       "array([0, 1, 2, 3, 4, 5, 6, 7, 8, 9])"
      ]
     },
     "execution_count": 69,
     "metadata": {},
     "output_type": "execute_result"
    }
   ],
   "source": [
    "a = np.arange(10)\n",
    "a"
   ]
  },
  {
   "cell_type": "code",
   "execution_count": 70,
   "id": "ef993668",
   "metadata": {},
   "outputs": [
    {
     "data": {
      "text/plain": [
       "array([[0, 1, 2, 3, 4],\n",
       "       [5, 6, 7, 8, 9]])"
      ]
     },
     "execution_count": 70,
     "metadata": {},
     "output_type": "execute_result"
    }
   ],
   "source": [
    "b = a.reshape((2, 5))\n",
    "b"
   ]
  },
  {
   "cell_type": "code",
   "execution_count": 71,
   "id": "5ef41b46",
   "metadata": {},
   "outputs": [
    {
     "data": {
      "text/plain": [
       "2"
      ]
     },
     "execution_count": 71,
     "metadata": {},
     "output_type": "execute_result"
    }
   ],
   "source": [
    "b.ndim"
   ]
  },
  {
   "cell_type": "code",
   "execution_count": 72,
   "id": "a614abc5",
   "metadata": {},
   "outputs": [
    {
     "data": {
      "text/plain": [
       "(2, 5)"
      ]
     },
     "execution_count": 72,
     "metadata": {},
     "output_type": "execute_result"
    }
   ],
   "source": [
    "b.shape"
   ]
  },
  {
   "cell_type": "code",
   "execution_count": 73,
   "id": "329e8eee",
   "metadata": {},
   "outputs": [
    {
     "data": {
      "text/plain": [
       "10"
      ]
     },
     "execution_count": 73,
     "metadata": {},
     "output_type": "execute_result"
    }
   ],
   "source": [
    "b.size"
   ]
  },
  {
   "cell_type": "code",
   "execution_count": 74,
   "id": "cc6d7710",
   "metadata": {},
   "outputs": [
    {
     "data": {
      "text/plain": [
       "array([[0, 1, 2],\n",
       "       [3, 4, 5]])"
      ]
     },
     "execution_count": 74,
     "metadata": {},
     "output_type": "execute_result"
    }
   ],
   "source": [
    "a = np.arange(6).reshape((2, 3))\n",
    "a"
   ]
  },
  {
   "cell_type": "markdown",
   "id": "5502ad9d",
   "metadata": {},
   "source": [
    "### Basic operations on numpy arrays"
   ]
  },
  {
   "cell_type": "code",
   "execution_count": 75,
   "id": "f340fcf8",
   "metadata": {},
   "outputs": [
    {
     "data": {
      "text/plain": [
       "15"
      ]
     },
     "execution_count": 75,
     "metadata": {},
     "output_type": "execute_result"
    }
   ],
   "source": [
    "a.sum()"
   ]
  },
  {
   "cell_type": "code",
   "execution_count": 76,
   "id": "125c425f",
   "metadata": {},
   "outputs": [
    {
     "data": {
      "text/plain": [
       "array([3, 5, 7])"
      ]
     },
     "execution_count": 76,
     "metadata": {},
     "output_type": "execute_result"
    }
   ],
   "source": [
    "a.sum(axis=0)"
   ]
  },
  {
   "cell_type": "code",
   "execution_count": 77,
   "id": "3d7804bd",
   "metadata": {},
   "outputs": [
    {
     "data": {
      "text/plain": [
       "array([ 3, 12])"
      ]
     },
     "execution_count": 77,
     "metadata": {},
     "output_type": "execute_result"
    }
   ],
   "source": [
    "a.sum(axis=1)"
   ]
  },
  {
   "cell_type": "code",
   "execution_count": 78,
   "id": "7943027e",
   "metadata": {},
   "outputs": [
    {
     "data": {
      "text/plain": [
       "0"
      ]
     },
     "execution_count": 78,
     "metadata": {},
     "output_type": "execute_result"
    }
   ],
   "source": [
    "a.min()"
   ]
  },
  {
   "cell_type": "code",
   "execution_count": 79,
   "id": "7ba81168",
   "metadata": {},
   "outputs": [
    {
     "data": {
      "text/plain": [
       "array([0, 1, 2])"
      ]
     },
     "execution_count": 79,
     "metadata": {},
     "output_type": "execute_result"
    }
   ],
   "source": [
    "a.min(axis=0)"
   ]
  },
  {
   "cell_type": "code",
   "execution_count": 80,
   "id": "1e59a445",
   "metadata": {},
   "outputs": [
    {
     "data": {
      "text/plain": [
       "array([0, 3])"
      ]
     },
     "execution_count": 80,
     "metadata": {},
     "output_type": "execute_result"
    }
   ],
   "source": [
    "a.min(axis=1)"
   ]
  },
  {
   "cell_type": "code",
   "execution_count": 81,
   "id": "7cda56b7",
   "metadata": {},
   "outputs": [
    {
     "data": {
      "text/plain": [
       "array([[0, 1, 2, 3, 4],\n",
       "       [5, 6, 7, 8, 9]])"
      ]
     },
     "execution_count": 81,
     "metadata": {},
     "output_type": "execute_result"
    }
   ],
   "source": [
    "a = np.arange(10).reshape(2, 5)\n",
    "a"
   ]
  },
  {
   "cell_type": "code",
   "execution_count": 82,
   "id": "e865d82d",
   "metadata": {},
   "outputs": [
    {
     "data": {
      "text/plain": [
       "array([0, 1, 2, 3, 4, 5, 6, 7, 8, 9])"
      ]
     },
     "execution_count": 82,
     "metadata": {},
     "output_type": "execute_result"
    }
   ],
   "source": [
    "a.ravel()"
   ]
  },
  {
   "cell_type": "markdown",
   "id": "017e69be",
   "metadata": {},
   "source": [
    "### Accessing elements"
   ]
  },
  {
   "cell_type": "code",
   "execution_count": 83,
   "id": "6793a3ef",
   "metadata": {},
   "outputs": [
    {
     "data": {
      "text/plain": [
       "5"
      ]
     },
     "execution_count": 83,
     "metadata": {},
     "output_type": "execute_result"
    }
   ],
   "source": [
    "a = np.arange(10)\n",
    "a\n",
    "a[5]"
   ]
  },
  {
   "cell_type": "code",
   "execution_count": 84,
   "id": "25c0a1d4",
   "metadata": {},
   "outputs": [
    {
     "data": {
      "text/plain": [
       "array([[0, 1, 2, 3, 4],\n",
       "       [5, 6, 7, 8, 9]])"
      ]
     },
     "execution_count": 84,
     "metadata": {},
     "output_type": "execute_result"
    }
   ],
   "source": [
    "a = np.arange(10).reshape(2, 5)\n",
    "a"
   ]
  },
  {
   "cell_type": "code",
   "execution_count": 85,
   "id": "a394c2b2",
   "metadata": {},
   "outputs": [
    {
     "data": {
      "text/plain": [
       "2"
      ]
     },
     "execution_count": 85,
     "metadata": {},
     "output_type": "execute_result"
    }
   ],
   "source": [
    "a[0][2]"
   ]
  },
  {
   "cell_type": "code",
   "execution_count": 86,
   "id": "d28762aa",
   "metadata": {},
   "outputs": [
    {
     "data": {
      "text/plain": [
       "2"
      ]
     },
     "execution_count": 86,
     "metadata": {},
     "output_type": "execute_result"
    }
   ],
   "source": [
    "a[0, 2]"
   ]
  },
  {
   "cell_type": "code",
   "execution_count": 87,
   "id": "36b79378",
   "metadata": {},
   "outputs": [
    {
     "data": {
      "text/plain": [
       "array([0, 1, 2, 3, 4])"
      ]
     },
     "metadata": {},
     "output_type": "display_data"
    },
    {
     "data": {
      "text/plain": [
       "array([2., 2., 2., 2., 2.])"
      ]
     },
     "metadata": {},
     "output_type": "display_data"
    }
   ],
   "source": [
    "a = np.arange(5)\n",
    "display(a)\n",
    "b = 2*np.ones(5)\n",
    "display(b)"
   ]
  },
  {
   "cell_type": "markdown",
   "id": "bd8e7585",
   "metadata": {},
   "source": [
    "#### Element wise operations"
   ]
  },
  {
   "cell_type": "code",
   "execution_count": 88,
   "id": "a36aa56e",
   "metadata": {},
   "outputs": [
    {
     "data": {
      "text/plain": [
       "array([0., 2., 4., 6., 8.])"
      ]
     },
     "execution_count": 88,
     "metadata": {},
     "output_type": "execute_result"
    }
   ],
   "source": [
    "a*b"
   ]
  },
  {
   "cell_type": "code",
   "execution_count": 89,
   "id": "b9ed620e",
   "metadata": {},
   "outputs": [
    {
     "data": {
      "text/plain": [
       "array([0., 2., 4., 6., 8.])"
      ]
     },
     "execution_count": 89,
     "metadata": {},
     "output_type": "execute_result"
    }
   ],
   "source": [
    "np.multiply(a, b)"
   ]
  },
  {
   "cell_type": "code",
   "execution_count": 90,
   "id": "b127274a",
   "metadata": {},
   "outputs": [
    {
     "data": {
      "text/plain": [
       "array([[2., 0.],\n",
       "       [0., 2.]])"
      ]
     },
     "metadata": {},
     "output_type": "display_data"
    },
    {
     "data": {
      "text/plain": [
       "array([[0, 1],\n",
       "       [2, 3]])"
      ]
     },
     "metadata": {},
     "output_type": "display_data"
    }
   ],
   "source": [
    "a = 2*np.identity(2)\n",
    "display(a)\n",
    "b = np.arange(4).reshape((2, 2))\n",
    "display(b)"
   ]
  },
  {
   "cell_type": "markdown",
   "id": "faaac070",
   "metadata": {},
   "source": [
    "#### Matrix operations"
   ]
  },
  {
   "cell_type": "code",
   "execution_count": 91,
   "id": "c26bcdc8",
   "metadata": {},
   "outputs": [
    {
     "data": {
      "text/plain": [
       "array([[0., 2.],\n",
       "       [4., 6.]])"
      ]
     },
     "execution_count": 91,
     "metadata": {},
     "output_type": "execute_result"
    }
   ],
   "source": [
    "np.dot(a, b)"
   ]
  },
  {
   "cell_type": "markdown",
   "id": "748aac2d",
   "metadata": {},
   "source": [
    "#### Stacking arrays"
   ]
  },
  {
   "cell_type": "code",
   "execution_count": 92,
   "id": "1a20ca63",
   "metadata": {},
   "outputs": [
    {
     "data": {
      "text/plain": [
       "array([[ 0,  1,  2],\n",
       "       [ 0, -1, -2]])"
      ]
     },
     "metadata": {},
     "output_type": "display_data"
    }
   ],
   "source": [
    "a = np.array([0, 1, 2])\n",
    "b = np.array([0, -1, -2])\n",
    "c = np.vstack((a, b))\n",
    "display(c)"
   ]
  },
  {
   "cell_type": "markdown",
   "id": "963a181f",
   "metadata": {},
   "source": [
    "#### Arrays with random elements"
   ]
  },
  {
   "cell_type": "code",
   "execution_count": 93,
   "id": "c8fe4607",
   "metadata": {
    "scrolled": true
   },
   "outputs": [
    {
     "data": {
      "text/plain": [
       "array([[0.79091935, 0.84269436, 0.26762844],\n",
       "       [0.68217338, 0.17838716, 0.56701913]])"
      ]
     },
     "metadata": {},
     "output_type": "display_data"
    }
   ],
   "source": [
    "c = np.random.rand(2, 3)\n",
    "display(c)"
   ]
  },
  {
   "cell_type": "code",
   "execution_count": 94,
   "id": "4d71e9e1",
   "metadata": {},
   "outputs": [
    {
     "data": {
      "text/plain": [
       "array([ 7, 94, 23, 39,  5, 67, 82, 81, 57, 86, 42, 83, 56,  9, 97, 70, 22,\n",
       "       32,  6, 90, 10, 77, 83, 53, 44, 89, 95, 14, 99, 28, 45, 59, 30,  1,\n",
       "       58, 46,  8, 61, 40, 27, 26, 27, 38, 15, 52, 15, 54, 99, 73, 84])"
      ]
     },
     "metadata": {},
     "output_type": "display_data"
    }
   ],
   "source": [
    "d = np.random.randint(0, 100, size=50)\n",
    "display(d)"
   ]
  },
  {
   "cell_type": "markdown",
   "id": "1a3e20b7",
   "metadata": {},
   "source": [
    "## To be continued next time\n",
    "* Filtering numpy arrays and masking\n",
    "* Time complexity of mathematical operations between numpy and lists\n",
    "* Plotting with matplotlib\n",
    "* Introduction to classes and objects\n",
    "* Pandas and ML...."
   ]
  }
 ],
 "metadata": {
  "kernelspec": {
   "display_name": "Python 3 (ipykernel)",
   "language": "python",
   "name": "python3"
  },
  "language_info": {
   "codemirror_mode": {
    "name": "ipython",
    "version": 3
   },
   "file_extension": ".py",
   "mimetype": "text/x-python",
   "name": "python",
   "nbconvert_exporter": "python",
   "pygments_lexer": "ipython3",
   "version": "3.9.7"
  }
 },
 "nbformat": 4,
 "nbformat_minor": 5
}
