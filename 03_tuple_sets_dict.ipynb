{
 "cells": [
  {
   "cell_type": "markdown",
   "id": "c9b38438",
   "metadata": {},
   "source": [
    "# Lists, tuple, sets, dict\n",
    "\n",
    "* List as ordered mutable data structures, discussed in the previous tutorial\n",
    "* Tuple similar to list, but immutable\n",
    "* Sets as hashed, mutable, unordered objects\n",
    "* Dicts as hashed mutable objects storing data in key: value format. Ordered by time of insertion in recent Python versions"
   ]
  },
  {
   "cell_type": "markdown",
   "id": "bc7cd720",
   "metadata": {},
   "source": [
    "## Tuple\n",
    "* Just like lists, but immutable\n",
    "* ordered\n",
    "* duplicates can be stored\n",
    "* indexing, slicing can be used to access"
   ]
  },
  {
   "cell_type": "code",
   "execution_count": 1,
   "id": "e3549998",
   "metadata": {},
   "outputs": [
    {
     "name": "stdout",
     "output_type": "stream",
     "text": [
      "(1, 2, 3)\n"
     ]
    },
    {
     "data": {
      "text/plain": [
       "tuple"
      ]
     },
     "execution_count": 1,
     "metadata": {},
     "output_type": "execute_result"
    }
   ],
   "source": [
    "a = (1, 2, 3)\n",
    "print(a)\n",
    "type(a)"
   ]
  },
  {
   "cell_type": "code",
   "execution_count": 4,
   "id": "0daef75c",
   "metadata": {},
   "outputs": [
    {
     "name": "stdout",
     "output_type": "stream",
     "text": [
      "(4,)\n"
     ]
    },
    {
     "data": {
      "text/plain": [
       "tuple"
      ]
     },
     "execution_count": 4,
     "metadata": {},
     "output_type": "execute_result"
    }
   ],
   "source": [
    "a = (4, )\n",
    "print(a)\n",
    "type(a)"
   ]
  },
  {
   "cell_type": "code",
   "execution_count": 7,
   "id": "910b628d",
   "metadata": {},
   "outputs": [
    {
     "data": {
      "text/plain": [
       "(1, 2, 3, 4)"
      ]
     },
     "execution_count": 7,
     "metadata": {},
     "output_type": "execute_result"
    }
   ],
   "source": [
    "a = (1, 2, 3)\n",
    "b = (4, )\n",
    "a = a+b\n",
    "a"
   ]
  },
  {
   "cell_type": "code",
   "execution_count": 9,
   "id": "4fdf955b",
   "metadata": {},
   "outputs": [
    {
     "data": {
      "text/plain": [
       "(2, 3)"
      ]
     },
     "execution_count": 9,
     "metadata": {},
     "output_type": "execute_result"
    }
   ],
   "source": [
    "a[1:3]"
   ]
  },
  {
   "cell_type": "code",
   "execution_count": 10,
   "id": "29b39d77",
   "metadata": {},
   "outputs": [
    {
     "ename": "TypeError",
     "evalue": "'tuple' object does not support item assignment",
     "output_type": "error",
     "traceback": [
      "\u001b[0;31m---------------------------------------------------------------------------\u001b[0m",
      "\u001b[0;31mTypeError\u001b[0m                                 Traceback (most recent call last)",
      "\u001b[0;32m/tmp/ipykernel_5364/3101196904.py\u001b[0m in \u001b[0;36m<module>\u001b[0;34m\u001b[0m\n\u001b[0;32m----> 1\u001b[0;31m \u001b[0ma\u001b[0m\u001b[0;34m[\u001b[0m\u001b[0;36m1\u001b[0m\u001b[0;34m]\u001b[0m \u001b[0;34m=\u001b[0m \u001b[0;36m5\u001b[0m\u001b[0;34m\u001b[0m\u001b[0;34m\u001b[0m\u001b[0m\n\u001b[0m",
      "\u001b[0;31mTypeError\u001b[0m: 'tuple' object does not support item assignment"
     ]
    }
   ],
   "source": [
    "# tuple is immutable\n",
    "# a[1] = 5"
   ]
  },
  {
   "cell_type": "code",
   "execution_count": 131,
   "id": "7ce510b2",
   "metadata": {},
   "outputs": [
    {
     "data": {
      "text/plain": [
       "(1, 2, 3)"
      ]
     },
     "execution_count": 131,
     "metadata": {},
     "output_type": "execute_result"
    },
    {
     "data": {
      "text/plain": [
       "tuple"
      ]
     },
     "execution_count": 131,
     "metadata": {},
     "output_type": "execute_result"
    },
    {
     "data": {
      "text/plain": [
       "int"
      ]
     },
     "execution_count": 131,
     "metadata": {},
     "output_type": "execute_result"
    },
    {
     "data": {
      "text/plain": [
       "tuple"
      ]
     },
     "execution_count": 131,
     "metadata": {},
     "output_type": "execute_result"
    },
    {
     "data": {
      "text/plain": [
       "(1, 2, 3, 4)"
      ]
     },
     "execution_count": 131,
     "metadata": {},
     "output_type": "execute_result"
    }
   ],
   "source": [
    "a = (1, 2, 3)\n",
    "a\n",
    "type(a)\n",
    "b = (4)\n",
    "type(b)\n",
    "b = (4, )\n",
    "type(b)\n",
    "a = a+b\n",
    "a"
   ]
  },
  {
   "cell_type": "code",
   "execution_count": 11,
   "id": "fbe7c821",
   "metadata": {},
   "outputs": [
    {
     "data": {
      "text/plain": [
       "(1, 's', [1, 2])"
      ]
     },
     "execution_count": 11,
     "metadata": {},
     "output_type": "execute_result"
    }
   ],
   "source": [
    "a = (1, 's', [1, 2])\n",
    "a"
   ]
  },
  {
   "cell_type": "code",
   "execution_count": 16,
   "id": "8244ca12",
   "metadata": {},
   "outputs": [
    {
     "data": {
      "text/plain": [
       "(0, 1, 2, 3, 4, 5, 6, 7, 8, 9)"
      ]
     },
     "execution_count": 16,
     "metadata": {},
     "output_type": "execute_result"
    }
   ],
   "source": [
    "a = tuple(i for i in range(10))\n",
    "a"
   ]
  },
  {
   "cell_type": "code",
   "execution_count": 159,
   "id": "0d15b2bf",
   "metadata": {},
   "outputs": [
    {
     "data": {
      "text/plain": [
       "([1, 2], [1, 2, 3])"
      ]
     },
     "execution_count": 159,
     "metadata": {},
     "output_type": "execute_result"
    }
   ],
   "source": [
    "a = ([1, 2], [1, 2, 3])\n",
    "a"
   ]
  },
  {
   "cell_type": "code",
   "execution_count": 171,
   "id": "8614ebe8",
   "metadata": {},
   "outputs": [
    {
     "data": {
      "text/plain": [
       "(0, 3, 6, 9, 12, 15, 18)"
      ]
     },
     "execution_count": 171,
     "metadata": {},
     "output_type": "execute_result"
    },
    {
     "data": {
      "text/plain": [
       "tuple"
      ]
     },
     "execution_count": 171,
     "metadata": {},
     "output_type": "execute_result"
    }
   ],
   "source": [
    "a_tup = tuple(i for i in range(20) if i%3 == 0)\n",
    "a_tup\n",
    "type(a_tup)"
   ]
  },
  {
   "cell_type": "markdown",
   "id": "b8d54bc8",
   "metadata": {},
   "source": [
    "## Dictionaries\n",
    "* Mutable\n",
    "* key: value pair\n",
    "* keys are hashed\n",
    "* keys cannot be duplicate\n",
    "* are ordered (as per time of insertion)"
   ]
  },
  {
   "cell_type": "code",
   "execution_count": 22,
   "id": "3484685a",
   "metadata": {},
   "outputs": [
    {
     "name": "stdout",
     "output_type": "stream",
     "text": [
      "{1: 'one', 2: 'two'}\n"
     ]
    },
    {
     "data": {
      "text/plain": [
       "dict"
      ]
     },
     "execution_count": 22,
     "metadata": {},
     "output_type": "execute_result"
    }
   ],
   "source": [
    "d = dict({1: 'one', 2: 'two'})\n",
    "d = {1: 'one', 2: 'two'}\n",
    "print(d)\n",
    "type(d)"
   ]
  },
  {
   "cell_type": "code",
   "execution_count": 23,
   "id": "edf19399",
   "metadata": {},
   "outputs": [
    {
     "data": {
      "text/plain": [
       "'one'"
      ]
     },
     "execution_count": 23,
     "metadata": {},
     "output_type": "execute_result"
    }
   ],
   "source": [
    "d[1]"
   ]
  },
  {
   "cell_type": "markdown",
   "id": "89377fce",
   "metadata": {},
   "source": [
    "### Dict to store database objects, like marks corresponding to student roll numbers"
   ]
  },
  {
   "cell_type": "code",
   "execution_count": 1,
   "id": "b8ec3db6",
   "metadata": {},
   "outputs": [
    {
     "data": {
      "text/plain": [
       "{1: 45, 2: 39, 3: 49}"
      ]
     },
     "execution_count": 1,
     "metadata": {},
     "output_type": "execute_result"
    }
   ],
   "source": [
    "marks = {1: 45, 2: 39, 3: 49}\n",
    "marks"
   ]
  },
  {
   "cell_type": "code",
   "execution_count": 2,
   "id": "bfc88fd7",
   "metadata": {},
   "outputs": [
    {
     "data": {
      "text/plain": [
       "45"
      ]
     },
     "execution_count": 2,
     "metadata": {},
     "output_type": "execute_result"
    }
   ],
   "source": [
    "marks[1]"
   ]
  },
  {
   "cell_type": "code",
   "execution_count": 3,
   "id": "8a66e2c0",
   "metadata": {},
   "outputs": [
    {
     "data": {
      "text/plain": [
       "{1: 24, 2: 39, 3: 49}"
      ]
     },
     "execution_count": 3,
     "metadata": {},
     "output_type": "execute_result"
    }
   ],
   "source": [
    "marks[1] = 24\n",
    "marks"
   ]
  },
  {
   "cell_type": "code",
   "execution_count": 4,
   "id": "c0c3560e",
   "metadata": {},
   "outputs": [
    {
     "data": {
      "text/plain": [
       "{1: 24, 2: 39, 3: 49, 'hundred': 100}"
      ]
     },
     "execution_count": 4,
     "metadata": {},
     "output_type": "execute_result"
    }
   ],
   "source": [
    "marks['hundred'] = 100\n",
    "marks"
   ]
  },
  {
   "cell_type": "markdown",
   "id": "704141da",
   "metadata": {},
   "source": [
    "#### Popping elements from list"
   ]
  },
  {
   "cell_type": "code",
   "execution_count": 11,
   "id": "cce2d638",
   "metadata": {},
   "outputs": [
    {
     "data": {
      "text/plain": [
       "{1: 24, 2: 39, 3: 49, 'hundred': 100}"
      ]
     },
     "execution_count": 11,
     "metadata": {},
     "output_type": "execute_result"
    }
   ],
   "source": [
    "# For popping specific key\n",
    "marks[4] = 36\n",
    "marks.pop(4)\n",
    "marks"
   ]
  },
  {
   "cell_type": "code",
   "execution_count": 12,
   "id": "b8bd09c6",
   "metadata": {},
   "outputs": [
    {
     "data": {
      "text/plain": [
       "{1: 24, 2: 39, 3: 49, 'hundred': 100}"
      ]
     },
     "execution_count": 12,
     "metadata": {},
     "output_type": "execute_result"
    }
   ],
   "source": [
    "# For popping only the last element\n",
    "marks[4] = 36\n",
    "marks.popitem()\n",
    "marks"
   ]
  },
  {
   "cell_type": "markdown",
   "id": "137233b0",
   "metadata": {},
   "source": [
    "#### Looping over dict keys or values or both"
   ]
  },
  {
   "cell_type": "code",
   "execution_count": 30,
   "id": "7ef0d127",
   "metadata": {},
   "outputs": [
    {
     "name": "stdout",
     "output_type": "stream",
     "text": [
      "1   24\n",
      "2   39\n",
      "3   49\n",
      "hundred   100\n"
     ]
    }
   ],
   "source": [
    "for i in marks:\n",
    "    print(i, \" \", marks[i])"
   ]
  },
  {
   "cell_type": "code",
   "execution_count": 31,
   "id": "c9fa4dd5",
   "metadata": {},
   "outputs": [
    {
     "name": "stdout",
     "output_type": "stream",
     "text": [
      "1\n",
      "2\n",
      "3\n",
      "hundred\n"
     ]
    }
   ],
   "source": [
    "for i in marks.keys():\n",
    "    print(i)"
   ]
  },
  {
   "cell_type": "code",
   "execution_count": 32,
   "id": "5140cb00",
   "metadata": {},
   "outputs": [
    {
     "name": "stdout",
     "output_type": "stream",
     "text": [
      "24\n",
      "39\n",
      "49\n",
      "100\n"
     ]
    }
   ],
   "source": [
    "for i in marks.values():\n",
    "    print(i)"
   ]
  },
  {
   "cell_type": "code",
   "execution_count": 34,
   "id": "2eb6f237",
   "metadata": {},
   "outputs": [
    {
     "name": "stdout",
     "output_type": "stream",
     "text": [
      "(1, 24)\n",
      "(2, 39)\n",
      "(3, 49)\n",
      "('hundred', 100)\n"
     ]
    }
   ],
   "source": [
    "for i in marks.items():\n",
    "    print(i)"
   ]
  },
  {
   "cell_type": "code",
   "execution_count": 5,
   "id": "c4c35834",
   "metadata": {},
   "outputs": [
    {
     "name": "stdout",
     "output_type": "stream",
     "text": [
      "1 24\n",
      "2 39\n",
      "3 49\n",
      "hundred 100\n"
     ]
    }
   ],
   "source": [
    "for key, value in marks.items():\n",
    "    print(key, value)"
   ]
  },
  {
   "cell_type": "markdown",
   "id": "9e0d6027",
   "metadata": {},
   "source": [
    "#### Searching in dicts"
   ]
  },
  {
   "cell_type": "code",
   "execution_count": 35,
   "id": "54c8332e",
   "metadata": {},
   "outputs": [
    {
     "name": "stdout",
     "output_type": "stream",
     "text": [
      "True\n"
     ]
    }
   ],
   "source": [
    "if 2 in marks.keys():\n",
    "    print(True) "
   ]
  },
  {
   "cell_type": "code",
   "execution_count": 36,
   "id": "e0bc1d3b",
   "metadata": {},
   "outputs": [
    {
     "name": "stdout",
     "output_type": "stream",
     "text": [
      "True\n"
     ]
    }
   ],
   "source": [
    "if 24 in marks.values():\n",
    "    print(True)"
   ]
  },
  {
   "cell_type": "markdown",
   "id": "b497381c",
   "metadata": {},
   "source": [
    "#### Updating one dict with key, values from another"
   ]
  },
  {
   "cell_type": "code",
   "execution_count": 39,
   "id": "e9ad7966",
   "metadata": {},
   "outputs": [
    {
     "data": {
      "text/plain": [
       "{4: 34, 5: 36}"
      ]
     },
     "execution_count": 39,
     "metadata": {},
     "output_type": "execute_result"
    }
   ],
   "source": [
    "marks_2 = {4: 34, 5: 36}\n",
    "marks_2"
   ]
  },
  {
   "cell_type": "code",
   "execution_count": 40,
   "id": "4769c166",
   "metadata": {},
   "outputs": [
    {
     "data": {
      "text/plain": [
       "{1: 24, 2: 39, 3: 49, 'hundred': 100}"
      ]
     },
     "execution_count": 40,
     "metadata": {},
     "output_type": "execute_result"
    }
   ],
   "source": [
    "marks"
   ]
  },
  {
   "cell_type": "code",
   "execution_count": 41,
   "id": "919c7390",
   "metadata": {},
   "outputs": [
    {
     "data": {
      "text/plain": [
       "{1: 24, 2: 39, 3: 49, 'hundred': 100, 4: 34, 5: 36}"
      ]
     },
     "execution_count": 41,
     "metadata": {},
     "output_type": "execute_result"
    }
   ],
   "source": [
    "marks.update(marks_2)\n",
    "marks"
   ]
  },
  {
   "cell_type": "code",
   "execution_count": 42,
   "id": "f3df5e0b",
   "metadata": {},
   "outputs": [
    {
     "data": {
      "text/plain": [
       "{1: 24, 2: 39, 3: 49, 'hundred': 100, 4: 34, 5: 36}"
      ]
     },
     "execution_count": 42,
     "metadata": {},
     "output_type": "execute_result"
    }
   ],
   "source": [
    "marks"
   ]
  },
  {
   "cell_type": "code",
   "execution_count": 43,
   "id": "244d5f05",
   "metadata": {},
   "outputs": [
    {
     "data": {
      "text/plain": [
       "{1: 24, 2: 39, 3: 49, 'hundred': 100, 4: 34, 5: 36}"
      ]
     },
     "execution_count": 43,
     "metadata": {},
     "output_type": "execute_result"
    }
   ],
   "source": [
    "marks"
   ]
  },
  {
   "cell_type": "code",
   "execution_count": 44,
   "id": "7ac2d779",
   "metadata": {},
   "outputs": [],
   "source": [
    "marks_3 = {1: 30}"
   ]
  },
  {
   "cell_type": "markdown",
   "id": "d4f4e924",
   "metadata": {},
   "source": [
    "#### Dictionaries don't take duplicates, the most recent value is updated"
   ]
  },
  {
   "cell_type": "code",
   "execution_count": 45,
   "id": "6457cad8",
   "metadata": {},
   "outputs": [
    {
     "data": {
      "text/plain": [
       "{1: 30, 2: 39, 3: 49, 'hundred': 100, 4: 34, 5: 36}"
      ]
     },
     "execution_count": 45,
     "metadata": {},
     "output_type": "execute_result"
    }
   ],
   "source": [
    "marks.update(marks_3)\n",
    "marks"
   ]
  },
  {
   "cell_type": "markdown",
   "id": "6c4cb991",
   "metadata": {},
   "source": [
    "### Only immutable objects can be used as dict keys like:\n",
    "* primitive variables, int, string, float\n",
    "* immutable objects like tuple\n",
    "\n",
    "Mutable objects like lists cannot be used as dict keys, as they cannot be hashed"
   ]
  },
  {
   "cell_type": "code",
   "execution_count": 50,
   "id": "e25810a3",
   "metadata": {},
   "outputs": [
    {
     "name": "stdout",
     "output_type": "stream",
     "text": [
      "{1.1: 'one', 'one': 1, (1, 2): 'one, two'}\n"
     ]
    },
    {
     "ename": "TypeError",
     "evalue": "unhashable type: 'list'",
     "output_type": "error",
     "traceback": [
      "\u001b[0;31m---------------------------------------------------------------------------\u001b[0m",
      "\u001b[0;31mTypeError\u001b[0m                                 Traceback (most recent call last)",
      "\u001b[0;32m/tmp/ipykernel_5364/3532910144.py\u001b[0m in \u001b[0;36m<module>\u001b[0;34m\u001b[0m\n\u001b[1;32m      2\u001b[0m \u001b[0mprint\u001b[0m\u001b[0;34m(\u001b[0m\u001b[0ma_dict\u001b[0m\u001b[0;34m)\u001b[0m\u001b[0;34m\u001b[0m\u001b[0;34m\u001b[0m\u001b[0m\n\u001b[1;32m      3\u001b[0m \u001b[0;31m# lists cannot be hashed:\u001b[0m\u001b[0;34m\u001b[0m\u001b[0;34m\u001b[0m\u001b[0m\n\u001b[0;32m----> 4\u001b[0;31m \u001b[0ma_dict\u001b[0m \u001b[0;34m=\u001b[0m \u001b[0;34m{\u001b[0m\u001b[0;36m1.1\u001b[0m\u001b[0;34m:\u001b[0m \u001b[0;34m'one'\u001b[0m\u001b[0;34m,\u001b[0m \u001b[0;34m'one'\u001b[0m\u001b[0;34m:\u001b[0m \u001b[0;36m1\u001b[0m\u001b[0;34m,\u001b[0m \u001b[0;34m(\u001b[0m\u001b[0;36m1\u001b[0m\u001b[0;34m,\u001b[0m \u001b[0;36m2\u001b[0m\u001b[0;34m)\u001b[0m\u001b[0;34m:\u001b[0m \u001b[0;34m'one, two'\u001b[0m\u001b[0;34m,\u001b[0m \u001b[0;34m[\u001b[0m\u001b[0;36m1\u001b[0m\u001b[0;34m,\u001b[0m \u001b[0;36m2\u001b[0m\u001b[0;34m]\u001b[0m\u001b[0;34m:\u001b[0m \u001b[0;34m'one, two'\u001b[0m\u001b[0;34m}\u001b[0m\u001b[0;34m\u001b[0m\u001b[0;34m\u001b[0m\u001b[0m\n\u001b[0m\u001b[1;32m      5\u001b[0m \u001b[0mprint\u001b[0m\u001b[0;34m(\u001b[0m\u001b[0ma_dict\u001b[0m\u001b[0;34m)\u001b[0m\u001b[0;34m\u001b[0m\u001b[0;34m\u001b[0m\u001b[0m\n",
      "\u001b[0;31mTypeError\u001b[0m: unhashable type: 'list'"
     ]
    }
   ],
   "source": [
    "a_dict = {1.1: 'one', 'one': 1, (1, 2): 'one, two'}\n",
    "print(a_dict)\n",
    "# lists cannot be used as dict keys:\n",
    "a_dict = {1.1: 'one', 'one': 1, (1, 2): 'one, two', [1, 2]: 'one, two'}\n",
    "print(a_dict)"
   ]
  },
  {
   "cell_type": "markdown",
   "id": "d70f466f",
   "metadata": {},
   "source": [
    "## Sets\n",
    "* Are mutable\n",
    "* Not ordered, hence cannot be indexed\n",
    "* No duplicate values"
   ]
  },
  {
   "cell_type": "code",
   "execution_count": 51,
   "id": "ab32f611",
   "metadata": {},
   "outputs": [
    {
     "name": "stdout",
     "output_type": "stream",
     "text": [
      "<class 'set'>\n",
      "{1, 2, 3}\n"
     ]
    }
   ],
   "source": [
    "a_set = {1, 2, 3}\n",
    "print(type(a_set))\n",
    "print(a_set)"
   ]
  },
  {
   "cell_type": "code",
   "execution_count": 52,
   "id": "807bc6c8",
   "metadata": {},
   "outputs": [
    {
     "data": {
      "text/plain": [
       "{3, 4}"
      ]
     },
     "execution_count": 52,
     "metadata": {},
     "output_type": "execute_result"
    }
   ],
   "source": [
    "b_set = {3, 4}\n",
    "b_set"
   ]
  },
  {
   "cell_type": "code",
   "execution_count": 53,
   "id": "7964070b",
   "metadata": {},
   "outputs": [
    {
     "data": {
      "text/plain": [
       "{1, 2, 3, 4}"
      ]
     },
     "execution_count": 53,
     "metadata": {},
     "output_type": "execute_result"
    }
   ],
   "source": [
    "a_set.union(b_set)"
   ]
  },
  {
   "cell_type": "code",
   "execution_count": 55,
   "id": "6869c2c6",
   "metadata": {},
   "outputs": [
    {
     "data": {
      "text/plain": [
       "{1, 2}"
      ]
     },
     "execution_count": 55,
     "metadata": {},
     "output_type": "execute_result"
    }
   ],
   "source": [
    "a_set.difference(b_set)"
   ]
  },
  {
   "cell_type": "markdown",
   "id": "35c77565",
   "metadata": {},
   "source": [
    "### Like immutable keys in dicts, only immutable objects can be added as elements of sets"
   ]
  },
  {
   "cell_type": "code",
   "execution_count": 62,
   "id": "53a7c703",
   "metadata": {},
   "outputs": [
    {
     "name": "stdout",
     "output_type": "stream",
     "text": [
      "{1, 2, 3, 4, 5, 's', (6, 7)}\n"
     ]
    },
    {
     "ename": "TypeError",
     "evalue": "unhashable type: 'list'",
     "output_type": "error",
     "traceback": [
      "\u001b[0;31m---------------------------------------------------------------------------\u001b[0m",
      "\u001b[0;31mTypeError\u001b[0m                                 Traceback (most recent call last)",
      "\u001b[0;32m/tmp/ipykernel_5364/3257866231.py\u001b[0m in \u001b[0;36m<module>\u001b[0;34m\u001b[0m\n\u001b[1;32m      3\u001b[0m \u001b[0;31m# a_set.add('s')\u001b[0m\u001b[0;34m\u001b[0m\u001b[0;34m\u001b[0m\u001b[0m\n\u001b[1;32m      4\u001b[0m \u001b[0;31m# a_set.add((6, 7))\u001b[0m\u001b[0;34m\u001b[0m\u001b[0;34m\u001b[0m\u001b[0m\n\u001b[0;32m----> 5\u001b[0;31m \u001b[0ma_set\u001b[0m\u001b[0;34m.\u001b[0m\u001b[0madd\u001b[0m\u001b[0;34m(\u001b[0m\u001b[0;34m[\u001b[0m\u001b[0;36m6\u001b[0m\u001b[0;34m,\u001b[0m \u001b[0;36m7\u001b[0m\u001b[0;34m]\u001b[0m\u001b[0;34m)\u001b[0m\u001b[0;34m\u001b[0m\u001b[0;34m\u001b[0m\u001b[0m\n\u001b[0m\u001b[1;32m      6\u001b[0m \u001b[0mprint\u001b[0m\u001b[0;34m(\u001b[0m\u001b[0ma_set\u001b[0m\u001b[0;34m)\u001b[0m\u001b[0;34m\u001b[0m\u001b[0;34m\u001b[0m\u001b[0m\n",
      "\u001b[0;31mTypeError\u001b[0m: unhashable type: 'list'"
     ]
    }
   ],
   "source": [
    "a_set\n",
    "print(a_set)\n",
    "# a_set.add('s')\n",
    "# a_set.add((6, 7))\n",
    "a_set.add([6, 7]) # only immutable objects can be added as elements of set or keys of dictionaries\n",
    "print(a_set)"
   ]
  },
  {
   "cell_type": "code",
   "execution_count": 68,
   "id": "2000237d",
   "metadata": {},
   "outputs": [
    {
     "name": "stdout",
     "output_type": "stream",
     "text": [
      "{1, 2, 3, 4}\n"
     ]
    },
    {
     "data": {
      "text/plain": [
       "True"
      ]
     },
     "execution_count": 68,
     "metadata": {},
     "output_type": "execute_result"
    }
   ],
   "source": [
    "a_set = {1, 2, 3, 4}\n",
    "print(a_set)\n",
    "# a_set[2] # cannot be indexed and accessed like lists\n",
    "2 in a_set"
   ]
  },
  {
   "cell_type": "markdown",
   "id": "81d8cd6f",
   "metadata": {},
   "source": [
    "### Can be created using comprehension, similar syntax to list comprehension"
   ]
  },
  {
   "cell_type": "code",
   "execution_count": 70,
   "id": "ea21bb0a",
   "metadata": {},
   "outputs": [
    {
     "name": "stdout",
     "output_type": "stream",
     "text": [
      "{0, 1, 2, 3, 4, 5, 6, 7, 8, 9}\n"
     ]
    }
   ],
   "source": [
    "c_set = {i for i in range(10)}\n",
    "print(c_set)"
   ]
  },
  {
   "cell_type": "markdown",
   "id": "0ea759f6",
   "metadata": {},
   "source": [
    "## Summary of list, tuple, set and dict\n",
    "\n",
    "\n",
    "| Property/ Data Structure | List | Tuple | Set | Dict |\n",
    "| --- | --- | --- | --- | --- |\n",
    "| Is it Mutable? | Yes | No  | Yes | Yes |\n",
    "| Is it Ordered? | Yes | Yes | No  | Yes, as per insertion time |\n",
    "| Is it Indexed? | Yes | Yes | No  | Using key |\n",
    "| Can it contain Duplicates? | Yes | Yes | No | Keys cannot be duplicates |\n",
    "| Is data Hashed while storing?  | No  | No  | Yes | Yes |  \n",
    "| Search complexity? | O(n)  | O(n) | O(1) | O(1) |"
   ]
  }
 ],
 "metadata": {
  "kernelspec": {
   "display_name": "Python 3 (ipykernel)",
   "language": "python",
   "name": "python3"
  },
  "language_info": {
   "codemirror_mode": {
    "name": "ipython",
    "version": 3
   },
   "file_extension": ".py",
   "mimetype": "text/x-python",
   "name": "python",
   "nbconvert_exporter": "python",
   "pygments_lexer": "ipython3",
   "version": "3.9.7"
  }
 },
 "nbformat": 4,
 "nbformat_minor": 5
}
