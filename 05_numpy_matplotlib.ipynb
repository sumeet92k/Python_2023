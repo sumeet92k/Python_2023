{
 "cells": [
  {
   "cell_type": "markdown",
   "id": "c9b38438",
   "metadata": {},
   "source": [
    "# numpy and matplotlib\n",
    "* Filtering numpy arrays and masking\n",
    "* Time complexity of mathematical operations between numpy and lists\n",
    "* Plotting with matplotlib"
   ]
  },
  {
   "cell_type": "markdown",
   "id": "0ea759f6",
   "metadata": {},
   "source": [
    "## Summary of list, tuple, set and dict\n",
    "\n",
    "\n",
    "| Property/ Data Structure | List | Tuple | Set | Dict | Numpy Array\n",
    "| --- | --- | --- | --- | --- | --- |\n",
    "| Is it Mutable? | Yes | No  | Yes | Yes | Yes |\n",
    "| Is it Ordered? | Yes | Yes | No  | Yes, as per insertion time | Yes |\n",
    "| Is it Indexed? | Yes | Yes | No  | Using key | Yes |\n",
    "| Can it contain Duplicates? | Yes | Yes | No | Keys cannot be duplicates | Yes |\n",
    "| Is data Hashed while storing?  | No  | No  | Yes | Yes | No | \n",
    "| Search complexity? | O(n)  | O(n) | O(1) | O(1) | O(n) |\n",
    "| Is it Homogeneous? | No | No | No | No | Yes |"
   ]
  },
  {
   "cell_type": "code",
   "execution_count": 25,
   "id": "d227edd8",
   "metadata": {},
   "outputs": [],
   "source": [
    "import time\n",
    "import random\n",
    "import numpy as np\n",
    "import matplotlib.pyplot as plt"
   ]
  },
  {
   "cell_type": "markdown",
   "id": "43329d89",
   "metadata": {},
   "source": [
    "## Numpy array operations"
   ]
  },
  {
   "cell_type": "markdown",
   "id": "7d2838e1",
   "metadata": {},
   "source": [
    "### Array multiplication"
   ]
  },
  {
   "cell_type": "code",
   "execution_count": 26,
   "id": "9432ee0a",
   "metadata": {},
   "outputs": [
    {
     "data": {
      "text/plain": [
       "array([[0, 1],\n",
       "       [2, 3]])"
      ]
     },
     "metadata": {},
     "output_type": "display_data"
    },
    {
     "data": {
      "text/plain": [
       "(2, 2)"
      ]
     },
     "metadata": {},
     "output_type": "display_data"
    }
   ],
   "source": [
    "a = np.arange(4).reshape((2, 2))\n",
    "display(a)\n",
    "display(a.shape)"
   ]
  },
  {
   "cell_type": "code",
   "execution_count": 27,
   "id": "fc171689",
   "metadata": {},
   "outputs": [
    {
     "data": {
      "text/plain": [
       "array([[2., 0.],\n",
       "       [0., 2.]])"
      ]
     },
     "metadata": {},
     "output_type": "display_data"
    }
   ],
   "source": [
    "b = 2*np.eye(2)\n",
    "display(b)"
   ]
  },
  {
   "cell_type": "markdown",
   "id": "e165949b",
   "metadata": {},
   "source": [
    "#### Matrix multiplication"
   ]
  },
  {
   "cell_type": "code",
   "execution_count": 28,
   "id": "05979ec4",
   "metadata": {},
   "outputs": [
    {
     "data": {
      "text/plain": [
       "array([[0., 2.],\n",
       "       [4., 6.]])"
      ]
     },
     "metadata": {},
     "output_type": "display_data"
    }
   ],
   "source": [
    "# matrix multiplication\n",
    "c = np.dot(a, b)\n",
    "display(c)"
   ]
  },
  {
   "cell_type": "markdown",
   "id": "47f048bf",
   "metadata": {},
   "source": [
    "#### Element wise multiplication"
   ]
  },
  {
   "cell_type": "code",
   "execution_count": 29,
   "id": "aaa9b470",
   "metadata": {},
   "outputs": [
    {
     "data": {
      "text/plain": [
       "array([[0., 0.],\n",
       "       [0., 6.]])"
      ]
     },
     "metadata": {},
     "output_type": "display_data"
    }
   ],
   "source": [
    "# elementwise multiplication\n",
    "d = a*b\n",
    "display(d)"
   ]
  },
  {
   "cell_type": "code",
   "execution_count": 30,
   "id": "c39653c1",
   "metadata": {},
   "outputs": [
    {
     "data": {
      "text/plain": [
       "array([[0., 0.],\n",
       "       [0., 6.]])"
      ]
     },
     "metadata": {},
     "output_type": "display_data"
    }
   ],
   "source": [
    "# elementwise multiplication\n",
    "d = np.multiply(a, b)\n",
    "display(d)"
   ]
  },
  {
   "cell_type": "markdown",
   "id": "9d2c5217",
   "metadata": {},
   "source": [
    "## Array Stacking"
   ]
  },
  {
   "cell_type": "code",
   "execution_count": 31,
   "id": "bff265df",
   "metadata": {},
   "outputs": [
    {
     "data": {
      "text/plain": [
       "array([[0., 1.],\n",
       "       [2., 3.],\n",
       "       [2., 0.],\n",
       "       [0., 2.],\n",
       "       [0., 1.],\n",
       "       [2., 3.]])"
      ]
     },
     "metadata": {},
     "output_type": "display_data"
    },
    {
     "data": {
      "text/plain": [
       "(6, 2)"
      ]
     },
     "metadata": {},
     "output_type": "display_data"
    }
   ],
   "source": [
    "e = np.vstack((a, b, a))\n",
    "display(e)\n",
    "display(e.shape)"
   ]
  },
  {
   "cell_type": "code",
   "execution_count": 32,
   "id": "2206a171",
   "metadata": {},
   "outputs": [
    {
     "data": {
      "text/plain": [
       "array([[0., 1., 2., 0.],\n",
       "       [2., 3., 0., 2.]])"
      ]
     },
     "metadata": {},
     "output_type": "display_data"
    },
    {
     "data": {
      "text/plain": [
       "(2, 4)"
      ]
     },
     "metadata": {},
     "output_type": "display_data"
    }
   ],
   "source": [
    "f = np.hstack((a, b))\n",
    "display(f)\n",
    "display(f.shape)"
   ]
  },
  {
   "cell_type": "markdown",
   "id": "63a458d6",
   "metadata": {},
   "source": [
    "## Searching and masking"
   ]
  },
  {
   "cell_type": "code",
   "execution_count": 33,
   "id": "0b7fd47f",
   "metadata": {},
   "outputs": [
    {
     "data": {
      "text/plain": [
       "array([ 0,  2,  4,  6,  8, 10, 12, 14])"
      ]
     },
     "execution_count": 33,
     "metadata": {},
     "output_type": "execute_result"
    }
   ],
   "source": [
    "a = np.arange(0, 15, 2)\n",
    "a"
   ]
  },
  {
   "cell_type": "code",
   "execution_count": 34,
   "id": "3c98832d",
   "metadata": {},
   "outputs": [
    {
     "data": {
      "text/plain": [
       "array([ True,  True,  True, False, False, False, False, False])"
      ]
     },
     "metadata": {},
     "output_type": "display_data"
    }
   ],
   "source": [
    "mask = a < 5\n",
    "display(mask)"
   ]
  },
  {
   "cell_type": "code",
   "execution_count": 35,
   "id": "8ef89a67",
   "metadata": {},
   "outputs": [
    {
     "data": {
      "text/plain": [
       "array([ 0,  2,  4,  6,  8, 10, 12, 14])"
      ]
     },
     "metadata": {},
     "output_type": "display_data"
    },
    {
     "data": {
      "text/plain": [
       "array([0, 2, 4])"
      ]
     },
     "metadata": {},
     "output_type": "display_data"
    }
   ],
   "source": [
    "b = a[mask]\n",
    "display(a)\n",
    "display(b)"
   ]
  },
  {
   "cell_type": "code",
   "execution_count": 36,
   "id": "b2da126e",
   "metadata": {},
   "outputs": [
    {
     "data": {
      "text/plain": [
       "array([False, False, False,  True,  True,  True, False, False])"
      ]
     },
     "metadata": {},
     "output_type": "display_data"
    },
    {
     "data": {
      "text/plain": [
       "array([ 6,  8, 10])"
      ]
     },
     "metadata": {},
     "output_type": "display_data"
    }
   ],
   "source": [
    "mask = (a > 5) & (a < 12) # be careful of parenthesis\n",
    "display(mask)\n",
    "display(a[mask])"
   ]
  },
  {
   "cell_type": "code",
   "execution_count": 37,
   "id": "44500bcb",
   "metadata": {},
   "outputs": [
    {
     "data": {
      "text/plain": [
       "array([[ 0,  2,  4,  6],\n",
       "       [ 8, 10, 12, 14]])"
      ]
     },
     "metadata": {},
     "output_type": "display_data"
    },
    {
     "data": {
      "text/plain": [
       "array([[False, False, False,  True],\n",
       "       [ True,  True,  True,  True]])"
      ]
     },
     "metadata": {},
     "output_type": "display_data"
    },
    {
     "data": {
      "text/plain": [
       "array([ 6,  8, 10, 12, 14])"
      ]
     },
     "metadata": {},
     "output_type": "display_data"
    }
   ],
   "source": [
    "a = np.arange(0, 15, 2)\n",
    "a = a.reshape((2, 4))\n",
    "display(a)\n",
    "display(a>5)\n",
    "a = a[a > 5]\n",
    "display(a) # array shape is not preseverd"
   ]
  },
  {
   "cell_type": "markdown",
   "id": "3e7a4d6c",
   "metadata": {},
   "source": [
    "### Using np.where() to get indices"
   ]
  },
  {
   "cell_type": "code",
   "execution_count": 38,
   "id": "ebbe3cd1",
   "metadata": {},
   "outputs": [
    {
     "data": {
      "text/plain": [
       "array([ 0,  2,  4,  6,  8, 10, 12, 14])"
      ]
     },
     "metadata": {},
     "output_type": "display_data"
    },
    {
     "data": {
      "text/plain": [
       "(array([3, 4, 5, 6, 7]),)"
      ]
     },
     "metadata": {},
     "output_type": "display_data"
    },
    {
     "data": {
      "text/plain": [
       "array([ 6,  8, 10, 12, 14])"
      ]
     },
     "metadata": {},
     "output_type": "display_data"
    }
   ],
   "source": [
    "a = np.arange(0, 15, 2)\n",
    "display(a)\n",
    "mask = np.where(a>5)\n",
    "display(mask)\n",
    "display(a[mask])"
   ]
  },
  {
   "cell_type": "code",
   "execution_count": 39,
   "id": "e75ba403",
   "metadata": {},
   "outputs": [
    {
     "data": {
      "text/plain": [
       "array([[ 0,  2,  4,  6],\n",
       "       [ 8, 10, 12, 14]])"
      ]
     },
     "metadata": {},
     "output_type": "display_data"
    },
    {
     "data": {
      "text/plain": [
       "(array([0, 1, 1, 1, 1]), array([3, 0, 1, 2, 3]))"
      ]
     },
     "metadata": {},
     "output_type": "display_data"
    },
    {
     "data": {
      "text/plain": [
       "array([ 6,  8, 10, 12, 14])"
      ]
     },
     "metadata": {},
     "output_type": "display_data"
    }
   ],
   "source": [
    "a = np.arange(0, 15, 2)\n",
    "a = a.reshape((2, 4))\n",
    "display(a)\n",
    "mask = np.where(a>5)\n",
    "display(mask)\n",
    "display(a[mask]) # shape is not preserved"
   ]
  },
  {
   "cell_type": "markdown",
   "id": "389b59a5",
   "metadata": {},
   "source": [
    "## Speed comparison between list and numpy array"
   ]
  },
  {
   "cell_type": "code",
   "execution_count": 40,
   "id": "32a4fc7a",
   "metadata": {},
   "outputs": [
    {
     "data": {
      "text/plain": [
       "100000"
      ]
     },
     "metadata": {},
     "output_type": "display_data"
    }
   ],
   "source": [
    "l = [i for i in range(100000)]\n",
    "display(len(l))"
   ]
  },
  {
   "cell_type": "code",
   "execution_count": 41,
   "id": "3e182c5a",
   "metadata": {},
   "outputs": [
    {
     "data": {
      "text/plain": [
       "0.09632316499999982"
      ]
     },
     "metadata": {},
     "output_type": "display_data"
    }
   ],
   "source": [
    "t_start = time.process_time()\n",
    "l_sq = [i**2 for i in l]\n",
    "# l_sq\n",
    "total_time_list = time.process_time() - t_start\n",
    "display(total_time_list)"
   ]
  },
  {
   "cell_type": "code",
   "execution_count": 42,
   "id": "dfdd8f38",
   "metadata": {},
   "outputs": [
    {
     "data": {
      "text/plain": [
       "(100000,)"
      ]
     },
     "metadata": {},
     "output_type": "display_data"
    },
    {
     "data": {
      "text/plain": [
       "0.0015330369999997373"
      ]
     },
     "metadata": {},
     "output_type": "display_data"
    },
    {
     "data": {
      "text/plain": [
       "'speedup = '"
      ]
     },
     "metadata": {},
     "output_type": "display_data"
    },
    {
     "data": {
      "text/plain": [
       "62.83159832412155"
      ]
     },
     "metadata": {},
     "output_type": "display_data"
    }
   ],
   "source": [
    "arr = np.arange(100000)\n",
    "display(arr.shape)\n",
    "t_start = time.process_time()\n",
    "arr_sq = np.power(arr, 2)\n",
    "# arr_sq\n",
    "total_time_array = time.process_time() - t_start\n",
    "display(total_time_array)\n",
    "display(\"speedup = \", total_time_list/total_time_array)"
   ]
  },
  {
   "cell_type": "markdown",
   "id": "1ec48078",
   "metadata": {},
   "source": [
    "# Plotting with matplotlib"
   ]
  },
  {
   "cell_type": "code",
   "execution_count": 44,
   "id": "604b261b",
   "metadata": {},
   "outputs": [
    {
     "data": {
      "text/plain": [
       "array([0, 1, 2, 3, 4, 5, 6, 7, 8, 9])"
      ]
     },
     "metadata": {},
     "output_type": "display_data"
    },
    {
     "data": {
      "text/plain": [
       "array([ 0,  1,  4,  9, 16, 25, 36, 49, 64, 81])"
      ]
     },
     "metadata": {},
     "output_type": "display_data"
    }
   ],
   "source": [
    "a = np.arange(10)\n",
    "b = np.power(a, 2)\n",
    "display(a)\n",
    "display(b)"
   ]
  },
  {
   "cell_type": "code",
   "execution_count": 48,
   "id": "69ca2450",
   "metadata": {},
   "outputs": [
    {
     "data": {
      "image/png": "[encoded data removed]",
      "text/plain": [
       "<Figure size 504x360 with 2 Axes>"
      ]
     },
     "metadata": {
      "needs_background": "light"
     },
     "output_type": "display_data"
    }
   ],
   "source": [
    "# %matplotlib notebook\n",
    "%matplotlib inline\n",
    "plt.figure(figsize=(7, 5))\n",
    "# plt.scatter(a, b, c='r', s=80, marker='*', label='squared')\n",
    "plt.scatter(a, np.power(a, 1.5), label='raised to 1.5')\n",
    "plt.scatter(a, b, c=b, s=80, marker='*', label='squared', cmap='coolwarm')\n",
    "plt.xlabel('number', fontsize=20)\n",
    "plt.ylabel('powered', fontsize=20)\n",
    "plt.title(\"Powers of numbers\", fontsize=24)\n",
    "plt.legend(fontsize=16)\n",
    "plt.colorbar()\n",
    "plt.show()\n",
    "# plt.savefig(\"powered.png\", dpi=300)"
   ]
  },
  {
   "cell_type": "markdown",
   "id": "fff2a141",
   "metadata": {},
   "source": [
    "# Next lecture\n",
    "* Further plotting\n",
    "* Introduction to classes and objects"
   ]
  }
 ],
 "metadata": {
  "kernelspec": {
   "display_name": "Python 3 (ipykernel)",
   "language": "python",
   "name": "python3"
  },
  "language_info": {
   "codemirror_mode": {
    "name": "ipython",
    "version": 3
   },
   "file_extension": ".py",
   "mimetype": "text/x-python",
   "name": "python",
   "nbconvert_exporter": "python",
   "pygments_lexer": "ipython3",
   "version": "3.9.7"
  },
  "toc": {
   "base_numbering": 1,
   "nav_menu": {
    "height": "162px",
    "width": "305.167px"
   },
   "number_sections": true,
   "sideBar": true,
   "skip_h1_title": false,
   "title_cell": "Table of Contents",
   "title_sidebar": "Contents",
   "toc_cell": false,
   "toc_position": {
    "height": "calc(100% - 180px)",
    "left": "10px",
    "top": "150px",
    "width": "300.767px"
   },
   "toc_section_display": true,
   "toc_window_display": true
  }
 },
 "nbformat": 4,
 "nbformat_minor": 5
}
