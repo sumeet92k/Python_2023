{
 "cells": [
  {
   "cell_type": "code",
   "execution_count": 1,
   "id": "3775db4d",
   "metadata": {},
   "outputs": [],
   "source": [
    "import numpy as np"
   ]
  },
  {
   "cell_type": "markdown",
   "id": "26d7038f",
   "metadata": {},
   "source": [
    "## List comprehension"
   ]
  },
  {
   "cell_type": "markdown",
   "id": "de1ef4ee",
   "metadata": {},
   "source": [
    "### Multiply each element of list by 2:\n",
    "Given a list below:"
   ]
  },
  {
   "cell_type": "code",
   "execution_count": 2,
   "id": "35344446",
   "metadata": {},
   "outputs": [],
   "source": [
    "numbers = [1, 2, 3, 4, 5, 6, 7, 8]"
   ]
  },
  {
   "cell_type": "markdown",
   "id": "ce2fce78",
   "metadata": {},
   "source": [
    "write code below using only 1 line of list comprehension to double each number of the numbers list"
   ]
  },
  {
   "cell_type": "code",
   "execution_count": null,
   "id": "42461467",
   "metadata": {},
   "outputs": [],
   "source": [
    "doubled_numbers = "
   ]
  },
  {
   "cell_type": "code",
   "execution_count": 3,
   "id": "7930fcbe",
   "metadata": {},
   "outputs": [
    {
     "name": "stdout",
     "output_type": "stream",
     "text": [
      "[2, 4, 6, 8, 10, 12, 14, 16]\n"
     ]
    }
   ],
   "source": [
    "# Expected answer\n",
    "print(doubled_numbers)"
   ]
  },
  {
   "cell_type": "markdown",
   "id": "43019a14",
   "metadata": {},
   "source": [
    "## Dictionary and Lists"
   ]
  },
  {
   "cell_type": "markdown",
   "id": "203ceb74",
   "metadata": {},
   "source": [
    "### Convert Two Lists into a Dictionary: \n",
    "Given two lists:"
   ]
  },
  {
   "cell_type": "code",
   "execution_count": 4,
   "id": "6ae84c19",
   "metadata": {},
   "outputs": [],
   "source": [
    "keys = ['Ten', 'Twenty', 'Thirty']\n",
    "values = [10, 20, 30]"
   ]
  },
  {
   "cell_type": "markdown",
   "id": "eac281a4",
   "metadata": {},
   "source": [
    "Write a Python program to convert them into a dictionary where each item from keys becomes a key, and the corresponding item from values becomes the value. The expected output should be:"
   ]
  },
  {
   "cell_type": "code",
   "execution_count": 5,
   "id": "12addb76",
   "metadata": {},
   "outputs": [],
   "source": [
    "dict_key_value = {}\n",
    "# write code here:\n",
    "\n"
   ]
  },
  {
   "cell_type": "code",
   "execution_count": 6,
   "id": "c49ea64a",
   "metadata": {},
   "outputs": [
    {
     "name": "stdout",
     "output_type": "stream",
     "text": [
      "{'Ten': 30, 'Twenty': 30, 'Thirty': 30}\n"
     ]
    }
   ],
   "source": [
    "# Expected answer\n",
    "print(dict_key_value)"
   ]
  },
  {
   "cell_type": "markdown",
   "id": "d9d59ff7",
   "metadata": {},
   "source": [
    "### Create a Dictionary by Extracting Keys: \n",
    "Given a dictionary:"
   ]
  },
  {
   "cell_type": "code",
   "execution_count": 7,
   "id": "0dd45ac7",
   "metadata": {},
   "outputs": [],
   "source": [
    "originalDict = {'a': 1, 'b': 2, 'c': 3}"
   ]
  },
  {
   "cell_type": "markdown",
   "id": "5fc54be1",
   "metadata": {},
   "source": [
    "Write a program to create a new dictionary containing the keys from originalDict and squares of the corresponding values. The expected output is:\n",
    "\n",
    "dict_squared = {'a': 1, 'b': 4, 'c': 9}"
   ]
  },
  {
   "cell_type": "code",
   "execution_count": 9,
   "id": "2e2cb6e2",
   "metadata": {},
   "outputs": [
    {
     "data": {
      "text/plain": [
       "{'a': 1, 'b': 4, 'c': 9}"
      ]
     },
     "execution_count": 9,
     "metadata": {},
     "output_type": "execute_result"
    }
   ],
   "source": [
    "# write code here using dictionary comprehension\n",
    "dict_squared = "
   ]
  },
  {
   "cell_type": "code",
   "execution_count": 10,
   "id": "da586dd0",
   "metadata": {},
   "outputs": [
    {
     "name": "stdout",
     "output_type": "stream",
     "text": [
      "{'a': 1, 'b': 4, 'c': 9}\n"
     ]
    }
   ],
   "source": [
    "print(dict_squared)"
   ]
  },
  {
   "cell_type": "markdown",
   "id": "754bbbf4",
   "metadata": {},
   "source": [
    "## Classes"
   ]
  },
  {
   "cell_type": "markdown",
   "id": "26003152",
   "metadata": {},
   "source": [
    "Create a class called Student having marks in maths and science as the attributes. \n",
    "\n",
    "Add a method called *calculate_total_marks()* which will sum and return the marks in maths and science. \n",
    "\n",
    "Instantiate two instances of the object: *student1* and *student2*"
   ]
  },
  {
   "cell_type": "code",
   "execution_count": null,
   "id": "25487a78",
   "metadata": {
    "scrolled": false
   },
   "outputs": [],
   "source": [
    "class Student:\n",
    "    def __init__(self, maths_marks, science_marks):\n",
    "        # write code here\n",
    "        \n",
    "\n",
    "    def calculate_total_marks(self):\n",
    "        # write code here\n",
    "        \n",
    "\n",
    "# Instantiate two student objects\n",
    "student1 = Student(maths_marks=85, science_marks=92)\n",
    "student2 = Student(maths_marks=78, science_marks=88)\n",
    "\n",
    "# Calculate total marks for each student\n",
    "total_marks_student1 = student1.calculate_total_marks()\n",
    "total_marks_student2 = student2.calculate_total_marks()\n",
    "\n",
    "print(\"Student 1 total marks: \", total_marks_student1)\n",
    "print(\"Student 2 total marks: \", total_marks_student2)"
   ]
  },
  {
   "cell_type": "code",
   "execution_count": null,
   "id": "c814170d",
   "metadata": {},
   "outputs": [],
   "source": []
  }
 ],
 "metadata": {
  "kernelspec": {
   "display_name": "Python 3 (ipykernel)",
   "language": "python",
   "name": "python3"
  },
  "language_info": {
   "codemirror_mode": {
    "name": "ipython",
    "version": 3
   },
   "file_extension": ".py",
   "mimetype": "text/x-python",
   "name": "python",
   "nbconvert_exporter": "python",
   "pygments_lexer": "ipython3",
   "version": "3.9.7"
  },
  "toc": {
   "base_numbering": 1,
   "nav_menu": {},
   "number_sections": true,
   "sideBar": true,
   "skip_h1_title": false,
   "title_cell": "Table of Contents",
   "title_sidebar": "Contents",
   "toc_cell": false,
   "toc_position": {},
   "toc_section_display": true,
   "toc_window_display": false
  }
 },
 "nbformat": 4,
 "nbformat_minor": 5
}
