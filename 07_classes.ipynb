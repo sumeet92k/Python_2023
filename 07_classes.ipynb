{
 "cells": [
  {
   "cell_type": "markdown",
   "id": "fe7a0f71",
   "metadata": {},
   "source": [
    "# Classes and objects continued\n",
    "Classes used for organizing data. \n",
    "* Classes contain attributes (variables) and methods (functions)\n",
    "\n",
    "Important properties/terms in classes:\n",
    "* Class: template or structure to store data and functions\n",
    "* Object: An *instance* of a class\n",
    "* Instantiating: Creating an object of a class\n",
    "* Constructor: Used to initialize the object\n",
    "* Destructor: Used to destroy the object\n",
    "* Encapsulation: All attributes and methods used by the class is contained inside. A class is stand alone\n",
    "* Setters and Getters: For setting and fetching attributes\n",
    "* **Inheritance**"
   ]
  },
  {
   "cell_type": "code",
   "execution_count": 1,
   "id": "d227edd8",
   "metadata": {},
   "outputs": [],
   "source": [
    "import numpy as np"
   ]
  },
  {
   "cell_type": "markdown",
   "id": "a92725e9",
   "metadata": {},
   "source": [
    "## Constructor \\_\\_init\\_\\_ method "
   ]
  },
  {
   "cell_type": "code",
   "execution_count": 2,
   "id": "4499c81c",
   "metadata": {},
   "outputs": [],
   "source": [
    "class Person():\n",
    "    def __init__(self, name=None, age=0, aadhaar=0):\n",
    "        self.name = name # public\n",
    "        self.age = age # public\n",
    "        self.__aadhaar = aadhaar # private (hidden) from user\n",
    "    \n",
    "    def get_aadhaar(self): # getter function to fetch private (hidden) attribute\n",
    "        print(self.__aadhaar)"
   ]
  },
  {
   "cell_type": "markdown",
   "id": "bb35282e",
   "metadata": {},
   "source": [
    "## Inheritance"
   ]
  },
  {
   "cell_type": "code",
   "execution_count": 5,
   "id": "5d1ab3b2",
   "metadata": {},
   "outputs": [],
   "source": [
    "class Student(Person):\n",
    "    def __init__(self, name=None, age=0, aadhaar=0, roll_no=0, marks=0):\n",
    "        super().__init__(name=name, age=age, aadhaar=aadhaar)\n",
    "        self.roll_no = roll_no\n",
    "        self.marks = marks"
   ]
  },
  {
   "cell_type": "code",
   "execution_count": 7,
   "id": "fe12adee",
   "metadata": {},
   "outputs": [],
   "source": [
    "s1 = Student(name='sachin', age=15, aadhaar=123, roll_no=12, marks=40)"
   ]
  },
  {
   "cell_type": "code",
   "execution_count": 8,
   "id": "c5f40ef5",
   "metadata": {},
   "outputs": [
    {
     "data": {
      "text/plain": [
       "__main__.Student"
      ]
     },
     "execution_count": 8,
     "metadata": {},
     "output_type": "execute_result"
    }
   ],
   "source": [
    "type(s1)"
   ]
  },
  {
   "cell_type": "code",
   "execution_count": 10,
   "id": "cb54878a",
   "metadata": {},
   "outputs": [
    {
     "name": "stdout",
     "output_type": "stream",
     "text": [
      "sachin\n",
      "15\n",
      "40\n"
     ]
    }
   ],
   "source": [
    "print(s1.name)\n",
    "print(s1.age)\n",
    "print(s1.marks)"
   ]
  },
  {
   "cell_type": "code",
   "execution_count": 13,
   "id": "b9d9c24c",
   "metadata": {},
   "outputs": [
    {
     "name": "stdout",
     "output_type": "stream",
     "text": [
      "Help on class Student in module __main__:\n",
      "\n",
      "class Student(Person)\n",
      " |  Student(name=None, age=0, aadhaar=0, roll_no=0, marks=0)\n",
      " |  \n",
      " |  Method resolution order:\n",
      " |      Student\n",
      " |      Person\n",
      " |      builtins.object\n",
      " |  \n",
      " |  Methods defined here:\n",
      " |  \n",
      " |  __init__(self, name=None, age=0, aadhaar=0, roll_no=0, marks=0)\n",
      " |      Initialize self.  See help(type(self)) for accurate signature.\n",
      " |  \n",
      " |  ----------------------------------------------------------------------\n",
      " |  Methods inherited from Person:\n",
      " |  \n",
      " |  get_aadhaar(self)\n",
      " |  \n",
      " |  ----------------------------------------------------------------------\n",
      " |  Data descriptors inherited from Person:\n",
      " |  \n",
      " |  __dict__\n",
      " |      dictionary for instance variables (if defined)\n",
      " |  \n",
      " |  __weakref__\n",
      " |      list of weak references to the object (if defined)\n",
      "\n"
     ]
    }
   ],
   "source": [
    "help(Student)"
   ]
  }
 ],
 "metadata": {
  "kernelspec": {
   "display_name": "Python 3 (ipykernel)",
   "language": "python",
   "name": "python3"
  },
  "language_info": {
   "codemirror_mode": {
    "name": "ipython",
    "version": 3
   },
   "file_extension": ".py",
   "mimetype": "text/x-python",
   "name": "python",
   "nbconvert_exporter": "python",
   "pygments_lexer": "ipython3",
   "version": "3.9.7"
  },
  "toc": {
   "base_numbering": 1,
   "nav_menu": {
    "height": "162px",
    "width": "305.167px"
   },
   "number_sections": true,
   "sideBar": true,
   "skip_h1_title": false,
   "title_cell": "Table of Contents",
   "title_sidebar": "Contents",
   "toc_cell": false,
   "toc_position": {
    "height": "calc(100% - 180px)",
    "left": "10px",
    "top": "150px",
    "width": "165px"
   },
   "toc_section_display": true,
   "toc_window_display": true
  }
 },
 "nbformat": 4,
 "nbformat_minor": 5
}
