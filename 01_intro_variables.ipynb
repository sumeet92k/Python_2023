{
 "cells": [
  {
   "cell_type": "markdown",
   "id": "481fea2f",
   "metadata": {},
   "source": [
    "## The basics\n",
    "1. softwares to use\n",
    "1. editors to write code (notepad++, visual studio code, jupyter-notebook)\n",
    "1. markdown and code cells and how to run\n",
    "1. variables and datatypes (str, str operations (split, upper, len), bool, int and int operations, math library), datatype checking and conversion\n",
    "1. print in different formats\n",
    "1. taking input, input conversion for different datatypes\n",
    "1. conditional if, else, elif\n",
    "1. list and dicts and their usage, operations, tuple"
   ]
  },
  {
   "cell_type": "code",
   "execution_count": 1,
   "id": "44b89ff4",
   "metadata": {},
   "outputs": [],
   "source": [
    "a = 1"
   ]
  },
  {
   "cell_type": "code",
   "execution_count": 2,
   "id": "e7b91879",
   "metadata": {},
   "outputs": [
    {
     "data": {
      "text/plain": [
       "int"
      ]
     },
     "execution_count": 2,
     "metadata": {},
     "output_type": "execute_result"
    }
   ],
   "source": [
    "type(a)"
   ]
  },
  {
   "cell_type": "code",
   "execution_count": 3,
   "id": "ff36a1ea",
   "metadata": {},
   "outputs": [
    {
     "data": {
      "text/plain": [
       "float"
      ]
     },
     "execution_count": 3,
     "metadata": {},
     "output_type": "execute_result"
    }
   ],
   "source": [
    "b = 1.0\n",
    "type(b)"
   ]
  },
  {
   "cell_type": "code",
   "execution_count": 10,
   "id": "89df085c",
   "metadata": {},
   "outputs": [
    {
     "data": {
      "text/plain": [
       "str"
      ]
     },
     "execution_count": 10,
     "metadata": {},
     "output_type": "execute_result"
    }
   ],
   "source": [
    "s = 'bat'\n",
    "type(s)"
   ]
  },
  {
   "cell_type": "code",
   "execution_count": 11,
   "id": "0e22c77b",
   "metadata": {},
   "outputs": [
    {
     "data": {
      "text/plain": [
       "'b'"
      ]
     },
     "execution_count": 11,
     "metadata": {},
     "output_type": "execute_result"
    }
   ],
   "source": [
    "s[0]"
   ]
  },
  {
   "cell_type": "code",
   "execution_count": 8,
   "id": "84ab88f4",
   "metadata": {},
   "outputs": [
    {
     "data": {
      "text/plain": [
       "['a', 'c']"
      ]
     },
     "execution_count": 8,
     "metadata": {},
     "output_type": "execute_result"
    }
   ],
   "source": [
    "s.split('b')"
   ]
  },
  {
   "cell_type": "code",
   "execution_count": 12,
   "id": "6ff533fd",
   "metadata": {},
   "outputs": [],
   "source": [
    "d = True"
   ]
  },
  {
   "cell_type": "code",
   "execution_count": 13,
   "id": "49844508",
   "metadata": {},
   "outputs": [
    {
     "data": {
      "text/plain": [
       "True"
      ]
     },
     "execution_count": 13,
     "metadata": {},
     "output_type": "execute_result"
    }
   ],
   "source": [
    "d"
   ]
  },
  {
   "cell_type": "code",
   "execution_count": 14,
   "id": "7935a425",
   "metadata": {},
   "outputs": [
    {
     "data": {
      "text/plain": [
       "bool"
      ]
     },
     "execution_count": 14,
     "metadata": {},
     "output_type": "execute_result"
    }
   ],
   "source": [
    "type(d)"
   ]
  },
  {
   "cell_type": "code",
   "execution_count": 29,
   "id": "c06c8db5",
   "metadata": {},
   "outputs": [
    {
     "name": "stdout",
     "output_type": "stream",
     "text": [
      "What is the day: Sunday\n"
     ]
    }
   ],
   "source": [
    "input_str = input('What is the day: ')"
   ]
  },
  {
   "cell_type": "code",
   "execution_count": 30,
   "id": "4995c7f5",
   "metadata": {},
   "outputs": [
    {
     "data": {
      "text/plain": [
       "'Sunday'"
      ]
     },
     "execution_count": 30,
     "metadata": {},
     "output_type": "execute_result"
    }
   ],
   "source": [
    "input_str"
   ]
  },
  {
   "cell_type": "code",
   "execution_count": 31,
   "id": "a8b29aec",
   "metadata": {},
   "outputs": [
    {
     "data": {
      "text/plain": [
       "'SUNDAY'"
      ]
     },
     "execution_count": 31,
     "metadata": {},
     "output_type": "execute_result"
    }
   ],
   "source": [
    "input_str.upper()"
   ]
  },
  {
   "cell_type": "code",
   "execution_count": 32,
   "id": "6d16a4b0",
   "metadata": {},
   "outputs": [
    {
     "data": {
      "text/plain": [
       "False"
      ]
     },
     "execution_count": 32,
     "metadata": {},
     "output_type": "execute_result"
    }
   ],
   "source": [
    "input_str.islower()"
   ]
  },
  {
   "cell_type": "code",
   "execution_count": 33,
   "id": "b6863e43",
   "metadata": {},
   "outputs": [
    {
     "data": {
      "text/plain": [
       "['a', 'b', 1]"
      ]
     },
     "execution_count": 33,
     "metadata": {},
     "output_type": "execute_result"
    }
   ],
   "source": [
    "ll = ['a', 'b', 1]\n",
    "ll"
   ]
  },
  {
   "cell_type": "code",
   "execution_count": 39,
   "id": "d9962e42",
   "metadata": {},
   "outputs": [],
   "source": [
    "veg_colors = {'tomato': 'red', 'spinach': 'green'}"
   ]
  },
  {
   "cell_type": "code",
   "execution_count": 40,
   "id": "289f19f1",
   "metadata": {},
   "outputs": [
    {
     "data": {
      "text/plain": [
       "'red'"
      ]
     },
     "execution_count": 40,
     "metadata": {},
     "output_type": "execute_result"
    }
   ],
   "source": [
    "veg_colors['tomato']"
   ]
  },
  {
   "cell_type": "code",
   "execution_count": null,
   "id": "43e525b1",
   "metadata": {},
   "outputs": [],
   "source": []
  }
 ],
 "metadata": {
  "kernelspec": {
   "display_name": "Python 3 (ipykernel)",
   "language": "python",
   "name": "python3"
  },
  "language_info": {
   "codemirror_mode": {
    "name": "ipython",
    "version": 3
   },
   "file_extension": ".py",
   "mimetype": "text/x-python",
   "name": "python",
   "nbconvert_exporter": "python",
   "pygments_lexer": "ipython3",
   "version": "3.9.7"
  }
 },
 "nbformat": 4,
 "nbformat_minor": 5
}
