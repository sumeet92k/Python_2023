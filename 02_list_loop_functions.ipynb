{
 "cells": [
  {
   "cell_type": "markdown",
   "id": "c9b38438",
   "metadata": {},
   "source": [
    "# List, functions, loops, list comprehension\n",
    "\n",
    "* List creation\n",
    "* List modification\n",
    "* List sort\n",
    "* Copying list\n",
    "* Looping over lists\n",
    "* Functions\n",
    "* List comprehension"
   ]
  },
  {
   "cell_type": "markdown",
   "id": "4ae897a9",
   "metadata": {},
   "source": [
    "### List creation"
   ]
  },
  {
   "cell_type": "code",
   "execution_count": 6,
   "id": "43bec779",
   "metadata": {},
   "outputs": [
    {
     "name": "stdout",
     "output_type": "stream",
     "text": [
      "[0, 1, 2, 3]\n"
     ]
    },
    {
     "data": {
      "text/plain": [
       "list"
      ]
     },
     "execution_count": 6,
     "metadata": {},
     "output_type": "execute_result"
    }
   ],
   "source": [
    "l1 = list([0, 1, 2, 3])\n",
    "l1 = [0, 1, 2, 3]\n",
    "print(l1)\n",
    "type(l1)"
   ]
  },
  {
   "cell_type": "code",
   "execution_count": 150,
   "id": "5de1a2e7",
   "metadata": {},
   "outputs": [
    {
     "name": "stdout",
     "output_type": "stream",
     "text": [
      "[]\n",
      "<class 'list'>\n"
     ]
    }
   ],
   "source": [
    "l1 = []\n",
    "print(l1)\n",
    "print(type(l1))"
   ]
  },
  {
   "cell_type": "code",
   "execution_count": 66,
   "id": "519456e6",
   "metadata": {},
   "outputs": [
    {
     "data": {
      "text/plain": [
       "[0, 1, 2, 3, 4, 5]"
      ]
     },
     "execution_count": 66,
     "metadata": {},
     "output_type": "execute_result"
    }
   ],
   "source": [
    "l2 = list([0, 1, 2, 3, 4, 5])\n",
    "l2"
   ]
  },
  {
   "cell_type": "markdown",
   "id": "7d4d4ca2",
   "metadata": {},
   "source": [
    "### list modification"
   ]
  },
  {
   "cell_type": "markdown",
   "id": "cd6d9459",
   "metadata": {},
   "source": [
    "* append and pop\n",
    "* extend\n",
    "* insert and remove"
   ]
  },
  {
   "cell_type": "code",
   "execution_count": 8,
   "id": "852740f7",
   "metadata": {},
   "outputs": [
    {
     "name": "stdout",
     "output_type": "stream",
     "text": [
      "[0, 1, 2, 3, 4, 5]\n"
     ]
    },
    {
     "data": {
      "text/plain": [
       "[0, 1, 2, 3, 4, 5, 6]"
      ]
     },
     "execution_count": 8,
     "metadata": {},
     "output_type": "execute_result"
    }
   ],
   "source": [
    "l1 = [0, 1, 2, 3, 4, 5]\n",
    "print(l1)\n",
    "l1.append(6)\n",
    "l1"
   ]
  },
  {
   "cell_type": "code",
   "execution_count": 9,
   "id": "1e18f04f",
   "metadata": {},
   "outputs": [
    {
     "name": "stdout",
     "output_type": "stream",
     "text": [
      "[0, 1, 2, 3, 4, 5, 6]\n"
     ]
    },
    {
     "data": {
      "text/plain": [
       "[0, 1, 2, 3, 4, 5]"
      ]
     },
     "execution_count": 9,
     "metadata": {},
     "output_type": "execute_result"
    }
   ],
   "source": [
    "print(l1)\n",
    "l1.pop()\n",
    "l1"
   ]
  },
  {
   "cell_type": "code",
   "execution_count": 14,
   "id": "d9242f5c",
   "metadata": {},
   "outputs": [
    {
     "name": "stdout",
     "output_type": "stream",
     "text": [
      "[0, 1, 2, 3, 4, 5]\n"
     ]
    },
    {
     "data": {
      "text/plain": [
       "[0, 1, 2, 3, 4, 5, 6, 7, 8]"
      ]
     },
     "execution_count": 14,
     "metadata": {},
     "output_type": "execute_result"
    }
   ],
   "source": [
    "l1 = [0, 1, 2, 3, 4, 5]\n",
    "print(l1)\n",
    "# l1.extend([6, 7, 8])\n",
    "l2 = [6, 7, 8]\n",
    "# l1.extend(l2)\n",
    "l1 = l1 + l2\n",
    "l1"
   ]
  },
  {
   "cell_type": "code",
   "execution_count": 15,
   "id": "69178599",
   "metadata": {},
   "outputs": [
    {
     "name": "stdout",
     "output_type": "stream",
     "text": [
      "[0, 1, 2, 3, 4, 5]\n"
     ]
    },
    {
     "data": {
      "text/plain": [
       "[-1, 0, 1, 2, 3, 4, 5]"
      ]
     },
     "execution_count": 15,
     "metadata": {},
     "output_type": "execute_result"
    }
   ],
   "source": [
    "l1 = [0, 1, 2, 3, 4, 5]\n",
    "print(l1)\n",
    "l1.insert(0, -1)\n",
    "l1"
   ]
  },
  {
   "cell_type": "code",
   "execution_count": 17,
   "id": "255d5057",
   "metadata": {},
   "outputs": [
    {
     "name": "stdout",
     "output_type": "stream",
     "text": [
      "[-1, 0, 1, 2, 3, 4, 5]\n"
     ]
    },
    {
     "data": {
      "text/plain": [
       "[0, 1, 2, 3, 4, 5]"
      ]
     },
     "execution_count": 17,
     "metadata": {},
     "output_type": "execute_result"
    }
   ],
   "source": [
    "l1 = [-1, 0, 1, 2, 3, 4, 5]\n",
    "print(l1)\n",
    "l1.remove(-1)\n",
    "l1"
   ]
  },
  {
   "cell_type": "code",
   "execution_count": 19,
   "id": "15377adc",
   "metadata": {},
   "outputs": [
    {
     "name": "stdout",
     "output_type": "stream",
     "text": [
      "[-1, 0, 1, 2, 3, 4, 5]\n",
      "[-1, 0, 1, 2, 3, 4, 5, -1, 0, 1, 2, 3, 4, 5]\n"
     ]
    },
    {
     "data": {
      "text/plain": [
       "[0, 1, 2, 3, 4, 5, -1, 0, 1, 2, 3, 4, 5]"
      ]
     },
     "execution_count": 19,
     "metadata": {},
     "output_type": "execute_result"
    }
   ],
   "source": [
    "l1 = [-1, 0, 1, 2, 3, 4, 5]\n",
    "print(l1)\n",
    "l1 = l1*2\n",
    "print(l1)\n",
    "l1.remove(-1)\n",
    "l1"
   ]
  },
  {
   "cell_type": "code",
   "execution_count": 21,
   "id": "3911612c",
   "metadata": {},
   "outputs": [
    {
     "name": "stdout",
     "output_type": "stream",
     "text": [
      "-1\n",
      "5\n"
     ]
    }
   ],
   "source": [
    "l1 = [-1, 0, 1, 2, 3, 4, 5]\n",
    "print(min(l1))\n",
    "print(max(l1))"
   ]
  },
  {
   "cell_type": "code",
   "execution_count": 22,
   "id": "153e2386",
   "metadata": {},
   "outputs": [
    {
     "data": {
      "text/plain": [
       "1"
      ]
     },
     "execution_count": 22,
     "metadata": {},
     "output_type": "execute_result"
    }
   ],
   "source": [
    "l1 = [-1, 0, 1, 2, 3, 4, 5]\n",
    "l1.count(5)"
   ]
  },
  {
   "cell_type": "markdown",
   "id": "b13b3417",
   "metadata": {},
   "source": [
    "### Additional List operations\n",
    "* sort\n",
    "* clear and deletion"
   ]
  },
  {
   "cell_type": "code",
   "execution_count": 24,
   "id": "5aa26075",
   "metadata": {},
   "outputs": [
    {
     "name": "stdout",
     "output_type": "stream",
     "text": [
      "ascending:  [0, 1, 2, 3, 4, 5]\n",
      "descending:  [5, 4, 3, 2, 1, 0]\n"
     ]
    }
   ],
   "source": [
    "l1 = [2, 0, 1, 4, 3, 5]\n",
    "l1.sort()\n",
    "print(\"ascending: \", l1)\n",
    "l1.sort(reverse=True)\n",
    "print(\"descending: \", l1)"
   ]
  },
  {
   "cell_type": "code",
   "execution_count": 25,
   "id": "05c7a441",
   "metadata": {},
   "outputs": [
    {
     "name": "stdout",
     "output_type": "stream",
     "text": [
      "['a', 'bc', 'b']\n"
     ]
    },
    {
     "data": {
      "text/plain": [
       "['a', 'b', 'bc']"
      ]
     },
     "execution_count": 25,
     "metadata": {},
     "output_type": "execute_result"
    }
   ],
   "source": [
    "l_str = ['a', 'bc', 'b']\n",
    "print(l_str)\n",
    "l_str.sort()\n",
    "l_str"
   ]
  },
  {
   "cell_type": "markdown",
   "id": "e0cff967",
   "metadata": {},
   "source": [
    "#### Cannot sort numerics and string together as shown below"
   ]
  },
  {
   "cell_type": "code",
   "execution_count": 26,
   "id": "13b9275a",
   "metadata": {},
   "outputs": [
    {
     "name": "stdout",
     "output_type": "stream",
     "text": [
      "['a', 'b', 'bc', 1, 2, 3]\n"
     ]
    },
    {
     "ename": "TypeError",
     "evalue": "'<' not supported between instances of 'int' and 'str'",
     "output_type": "error",
     "traceback": [
      "\u001b[0;31m---------------------------------------------------------------------------\u001b[0m",
      "\u001b[0;31mTypeError\u001b[0m                                 Traceback (most recent call last)",
      "\u001b[0;32m/tmp/ipykernel_8177/4206325839.py\u001b[0m in \u001b[0;36m<module>\u001b[0;34m\u001b[0m\n\u001b[1;32m      1\u001b[0m \u001b[0ml4\u001b[0m \u001b[0;34m=\u001b[0m \u001b[0ml_str\u001b[0m \u001b[0;34m+\u001b[0m \u001b[0;34m[\u001b[0m\u001b[0;36m1\u001b[0m\u001b[0;34m,\u001b[0m \u001b[0;36m2\u001b[0m\u001b[0;34m,\u001b[0m \u001b[0;36m3\u001b[0m\u001b[0;34m]\u001b[0m\u001b[0;34m\u001b[0m\u001b[0;34m\u001b[0m\u001b[0m\n\u001b[1;32m      2\u001b[0m \u001b[0mprint\u001b[0m\u001b[0;34m(\u001b[0m\u001b[0ml4\u001b[0m\u001b[0;34m)\u001b[0m\u001b[0;34m\u001b[0m\u001b[0;34m\u001b[0m\u001b[0m\n\u001b[0;32m----> 3\u001b[0;31m \u001b[0ml4\u001b[0m\u001b[0;34m.\u001b[0m\u001b[0msort\u001b[0m\u001b[0;34m(\u001b[0m\u001b[0;34m)\u001b[0m\u001b[0;34m\u001b[0m\u001b[0;34m\u001b[0m\u001b[0m\n\u001b[0m\u001b[1;32m      4\u001b[0m \u001b[0ml4\u001b[0m\u001b[0;34m\u001b[0m\u001b[0;34m\u001b[0m\u001b[0m\n",
      "\u001b[0;31mTypeError\u001b[0m: '<' not supported between instances of 'int' and 'str'"
     ]
    }
   ],
   "source": [
    "l4 = l_str + [1, 2, 3]\n",
    "print(l4)\n",
    "# Sorting of mixed list with numeric and string will lead to error\n",
    "# l4.sort()\n",
    "l4"
   ]
  },
  {
   "cell_type": "markdown",
   "id": "a560d7f7",
   "metadata": {},
   "source": [
    "### Copying lists and list of lists (Shallow copy vs. deep copy)"
   ]
  },
  {
   "cell_type": "markdown",
   "id": "2525cf49",
   "metadata": {},
   "source": [
    "#### Reference copy"
   ]
  },
  {
   "cell_type": "code",
   "execution_count": 1,
   "id": "3eb9bf0e",
   "metadata": {},
   "outputs": [
    {
     "name": "stdout",
     "output_type": "stream",
     "text": [
      "l4:  [0, 1, 2, 3, 4, 5, 6, 7]\n",
      "l4_copy:  [0, 1, 2, 3, 4, 5, 6, 7]\n"
     ]
    }
   ],
   "source": [
    "l4 = [0, 1, 2, 3, 4, 5, 6]\n",
    "l4_copy = l4 # reference copy\n",
    "l4_copy.append(7)\n",
    "print(\"l4: \", l4)\n",
    "print(\"l4_copy: \", l4_copy)"
   ]
  },
  {
   "cell_type": "markdown",
   "id": "055371f0",
   "metadata": {},
   "source": [
    "#### Shallow copy"
   ]
  },
  {
   "cell_type": "code",
   "execution_count": 3,
   "id": "4b92b725",
   "metadata": {},
   "outputs": [
    {
     "name": "stdout",
     "output_type": "stream",
     "text": [
      "l4:  [0, 1, 2, 3, 4, 5, 6]\n",
      "l4_shallow_copy:  [0, 1, 2, 3, 4, 5, 6, 7]\n"
     ]
    }
   ],
   "source": [
    "l4 = [0, 1, 2, 3, 4, 5, 6]\n",
    "l4_shallow_copy = l4.copy() # shallow copy\n",
    "l4_shallow_copy.append(7)\n",
    "print(\"l4: \", l4)\n",
    "print(\"l4_shallow_copy: \", l4_shallow_copy)"
   ]
  },
  {
   "cell_type": "markdown",
   "id": "2713e10b",
   "metadata": {},
   "source": [
    "#### Deep copy"
   ]
  },
  {
   "cell_type": "code",
   "execution_count": 6,
   "id": "7c4a65d8",
   "metadata": {},
   "outputs": [
    {
     "name": "stdout",
     "output_type": "stream",
     "text": [
      "l4 before:  [0, 1, 2, 3, 4, 5, 6, ['a', 'b']]\n",
      "l4:  [0, 1, 2, 3, 4, 5, 6, ['a', 'b']]\n",
      "l4_shallow_copy:  [0, 1, 2, 3, 4, 5, 6, ['a', 'b']]\n",
      "l4_deep_copy:  [0, 1, 2, 3, 4, 5, 6, ['a', 'b', 'c']]\n"
     ]
    }
   ],
   "source": [
    "import copy\n",
    "l4 = [0, 1, 2, 3, 4, 5, 6, ['a', 'b']]\n",
    "print(\"l4 before: \", l4)\n",
    "# l4_copy = l4 # reference copy\n",
    "l4_shallow_copy = l4.copy() # shallow copy\n",
    "l4_deep_copy = copy.deepcopy(l4) # deep copy\n",
    "l4_deep_copy[7].append('c')\n",
    "print(\"l4: \", l4)\n",
    "print(\"l4_shallow_copy: \", l4_shallow_copy)\n",
    "print(\"l4_deep_copy: \", l4_deep_copy)"
   ]
  },
  {
   "cell_type": "markdown",
   "id": "846d27e9",
   "metadata": {},
   "source": [
    "From above examples, we see that shallow copy doesn't work as true duplicate copy for list of lists, whereas deep copy makes a true duplicate."
   ]
  },
  {
   "cell_type": "markdown",
   "id": "b14aea95",
   "metadata": {},
   "source": [
    "### Clearing and deleting lists"
   ]
  },
  {
   "cell_type": "code",
   "execution_count": 11,
   "id": "a6221ab1",
   "metadata": {},
   "outputs": [],
   "source": [
    "l1 = [0, 1, 2]"
   ]
  },
  {
   "cell_type": "code",
   "execution_count": 12,
   "id": "078c32b2",
   "metadata": {},
   "outputs": [
    {
     "data": {
      "text/plain": [
       "[]"
      ]
     },
     "execution_count": 12,
     "metadata": {},
     "output_type": "execute_result"
    }
   ],
   "source": [
    "l1.clear()\n",
    "l1"
   ]
  },
  {
   "cell_type": "code",
   "execution_count": 13,
   "id": "271d539b",
   "metadata": {},
   "outputs": [
    {
     "ename": "NameError",
     "evalue": "name 'l1' is not defined",
     "output_type": "error",
     "traceback": [
      "\u001b[0;31m---------------------------------------------------------------------------\u001b[0m",
      "\u001b[0;31mNameError\u001b[0m                                 Traceback (most recent call last)",
      "\u001b[0;32m/tmp/ipykernel_10255/771902963.py\u001b[0m in \u001b[0;36m<module>\u001b[0;34m\u001b[0m\n\u001b[1;32m      1\u001b[0m \u001b[0;32mdel\u001b[0m \u001b[0ml1\u001b[0m\u001b[0;34m\u001b[0m\u001b[0;34m\u001b[0m\u001b[0m\n\u001b[0;32m----> 2\u001b[0;31m \u001b[0ml1\u001b[0m\u001b[0;34m\u001b[0m\u001b[0;34m\u001b[0m\u001b[0m\n\u001b[0m",
      "\u001b[0;31mNameError\u001b[0m: name 'l1' is not defined"
     ]
    }
   ],
   "source": [
    "del l1\n",
    "# l1"
   ]
  },
  {
   "cell_type": "markdown",
   "id": "926f44ee",
   "metadata": {},
   "source": [
    "Once deleted, upon calling the variable, not defined error is obtained."
   ]
  },
  {
   "cell_type": "markdown",
   "id": "50224a9c",
   "metadata": {},
   "source": [
    "### Multiplying lists"
   ]
  },
  {
   "cell_type": "code",
   "execution_count": 16,
   "id": "230a96c5",
   "metadata": {},
   "outputs": [
    {
     "data": {
      "text/plain": [
       "[0, 1, 2, 3, 4, 5, 0, 1, 2, 3, 4, 5]"
      ]
     },
     "execution_count": 16,
     "metadata": {},
     "output_type": "execute_result"
    }
   ],
   "source": [
    "l2 = [0, 1, 2, 3, 4, 5]\n",
    "l2*2"
   ]
  },
  {
   "cell_type": "markdown",
   "id": "36ee006b",
   "metadata": {},
   "source": [
    "## Create a list of squares of l2 = [0, 1, 2, 3, 4, 5]"
   ]
  },
  {
   "cell_type": "code",
   "execution_count": 17,
   "id": "6945da4c",
   "metadata": {},
   "outputs": [
    {
     "name": "stdout",
     "output_type": "stream",
     "text": [
      "0\n",
      "1\n",
      "2\n",
      "3\n",
      "4\n",
      "5\n"
     ]
    }
   ],
   "source": [
    "# for i in range(0, 6, 1):\n",
    "#     print(i)\n",
    "for i in range(6):\n",
    "    print(i)"
   ]
  },
  {
   "cell_type": "markdown",
   "id": "63cada9b",
   "metadata": {},
   "source": [
    "### accessing elements of list by index (C style)"
   ]
  },
  {
   "cell_type": "code",
   "execution_count": 18,
   "id": "f0e59112",
   "metadata": {},
   "outputs": [
    {
     "data": {
      "text/plain": [
       "[0, 1, 4, 9, 16, 25]"
      ]
     },
     "execution_count": 18,
     "metadata": {},
     "output_type": "execute_result"
    }
   ],
   "source": [
    "# accessing elements of list by index\n",
    "l2 = [0, 1, 2, 3, 4, 5]\n",
    "l_squared = []\n",
    "for i in range(len(l2)):\n",
    "    l_squared.append(l2[i]**2)\n",
    "l_squared"
   ]
  },
  {
   "cell_type": "markdown",
   "id": "8f4d45f1",
   "metadata": {},
   "source": [
    "### accessing elements of list by value"
   ]
  },
  {
   "cell_type": "code",
   "execution_count": 19,
   "id": "0dd74537",
   "metadata": {},
   "outputs": [
    {
     "data": {
      "text/plain": [
       "[0, 1, 4, 9, 16, 25]"
      ]
     },
     "execution_count": 19,
     "metadata": {},
     "output_type": "execute_result"
    }
   ],
   "source": [
    "# accessing elements of list by value\n",
    "l2 = [0, 1, 2, 3, 4, 5]\n",
    "l_squared = []\n",
    "for value in l2:\n",
    "    l_squared.append(value**2)\n",
    "l_squared"
   ]
  },
  {
   "cell_type": "markdown",
   "id": "3033ea6f",
   "metadata": {},
   "source": [
    "## Create squares of list containing both integer and strings such that:\n",
    "* Square the integers only\n",
    "* Strings should be copied as it is"
   ]
  },
  {
   "cell_type": "code",
   "execution_count": 22,
   "id": "05dbc3e0",
   "metadata": {},
   "outputs": [
    {
     "data": {
      "text/plain": [
       "['a', 0, 1, 'b', 2, 3, 4, 'c']"
      ]
     },
     "execution_count": 22,
     "metadata": {},
     "output_type": "execute_result"
    }
   ],
   "source": [
    "l2 = ['a', 0, 1, 'b', 2, 3, 4, 'c']\n",
    "l2"
   ]
  },
  {
   "cell_type": "markdown",
   "id": "9a178c38",
   "metadata": {},
   "source": [
    "### Using loops and accessing each element"
   ]
  },
  {
   "cell_type": "code",
   "execution_count": 23,
   "id": "7682cc9f",
   "metadata": {},
   "outputs": [
    {
     "data": {
      "text/plain": [
       "['a', 0, 1, 'b', 4, 9, 16, 'c']"
      ]
     },
     "execution_count": 23,
     "metadata": {},
     "output_type": "execute_result"
    }
   ],
   "source": [
    "l2 = ['a', 0, 1, 'b', 2, 3, 4, 'c']\n",
    "l_squared = []\n",
    "for value in l2:\n",
    "    if type(value) is not str:\n",
    "        l_squared.append(value**2)\n",
    "    else:\n",
    "        l_squared.append(value)\n",
    "l_squared"
   ]
  },
  {
   "cell_type": "markdown",
   "id": "ed5b9321",
   "metadata": {},
   "source": [
    "#### Defining function and calling function inside loop"
   ]
  },
  {
   "cell_type": "code",
   "execution_count": 52,
   "id": "24f74191",
   "metadata": {},
   "outputs": [],
   "source": [
    "def calculate_value(value):\n",
    "    if type(value) is not str:\n",
    "        return value**2\n",
    "    else:\n",
    "        return value"
   ]
  },
  {
   "cell_type": "code",
   "execution_count": 53,
   "id": "b19d1ded",
   "metadata": {},
   "outputs": [
    {
     "data": {
      "text/plain": [
       "['a', 0, 1, 'b', 4, 9, 16, 'c']"
      ]
     },
     "execution_count": 53,
     "metadata": {},
     "output_type": "execute_result"
    }
   ],
   "source": [
    "l2 = ['a', 0, 1, 'b', 2, 3, 4, 'c']\n",
    "l_squared = []\n",
    "for value in l2:\n",
    "    l_squared.append(calculate_value(value))\n",
    "l_squared"
   ]
  },
  {
   "cell_type": "markdown",
   "id": "a8847133",
   "metadata": {},
   "source": [
    "### Using mapping function, no need to use loop"
   ]
  },
  {
   "cell_type": "code",
   "execution_count": 55,
   "id": "4a28a172",
   "metadata": {},
   "outputs": [
    {
     "data": {
      "text/plain": [
       "['a', 0, 1, 'b', 4, 9, 16, 'c']"
      ]
     },
     "execution_count": 55,
     "metadata": {},
     "output_type": "execute_result"
    }
   ],
   "source": [
    "l2 = ['a', 0, 1, 'b', 2, 3, 4, 'c']\n",
    "l_squared = list(map(calculate_value, l2))\n",
    "l_squared"
   ]
  },
  {
   "cell_type": "markdown",
   "id": "b43dfb6b",
   "metadata": {},
   "source": [
    "### Using List comprehension"
   ]
  },
  {
   "cell_type": "code",
   "execution_count": 56,
   "id": "d195eeb2",
   "metadata": {},
   "outputs": [
    {
     "data": {
      "text/plain": [
       "[0, 1, 4, 9, 16]"
      ]
     },
     "execution_count": 56,
     "metadata": {},
     "output_type": "execute_result"
    }
   ],
   "source": [
    "l2 = [0, 1, 2, 3, 4]\n",
    "l_squared = [value**2 for value in l2]\n",
    "l_squared"
   ]
  },
  {
   "cell_type": "markdown",
   "id": "86f210b7",
   "metadata": {},
   "source": [
    "### How to use List comprehension\n",
    "only if condition:\n",
    "\n",
    "    [f(x) for x in sequence if condition]\n",
    "\n",
    "if and else condition:\n",
    "\n",
    "    [f(x) if condition else g(x) for x in sequence]\n",
    "\n",
    "\n"
   ]
  },
  {
   "cell_type": "code",
   "execution_count": 25,
   "id": "00f3887c",
   "metadata": {},
   "outputs": [
    {
     "data": {
      "text/plain": [
       "[0, 1, 4, 9, 16]"
      ]
     },
     "execution_count": 25,
     "metadata": {},
     "output_type": "execute_result"
    }
   ],
   "source": [
    "# only if condition\n",
    "l2 = ['a', 0, 1, 'b', 2, 3, 4, 'c']\n",
    "l_squared = [value**2 for value in l2 if type(value) is not str]\n",
    "l_squared"
   ]
  },
  {
   "cell_type": "code",
   "execution_count": 26,
   "id": "49e9e10c",
   "metadata": {},
   "outputs": [
    {
     "data": {
      "text/plain": [
       "['a', 0, 1, 'b', 4, 9, 16, 'c']"
      ]
     },
     "execution_count": 26,
     "metadata": {},
     "output_type": "execute_result"
    }
   ],
   "source": [
    "# if and else condition\n",
    "l2 = ['a', 0, 1, 'b', 2, 3, 4, 'c']\n",
    "l_squared = [value**2 if type(value) is not str else value for value in l2]\n",
    "l_squared"
   ]
  },
  {
   "cell_type": "markdown",
   "id": "6296df4e",
   "metadata": {},
   "source": [
    "## Review\n",
    "* Look into documentation of list, range, map functions"
   ]
  }
 ],
 "metadata": {
  "kernelspec": {
   "display_name": "Python 3 (ipykernel)",
   "language": "python",
   "name": "python3"
  },
  "language_info": {
   "codemirror_mode": {
    "name": "ipython",
    "version": 3
   },
   "file_extension": ".py",
   "mimetype": "text/x-python",
   "name": "python",
   "nbconvert_exporter": "python",
   "pygments_lexer": "ipython3",
   "version": "3.9.7"
  }
 },
 "nbformat": 4,
 "nbformat_minor": 5
}
